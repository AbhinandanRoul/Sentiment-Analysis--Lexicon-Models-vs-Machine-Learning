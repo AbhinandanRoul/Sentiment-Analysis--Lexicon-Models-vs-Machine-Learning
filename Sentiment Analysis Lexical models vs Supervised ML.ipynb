{
  "nbformat": 4,
  "nbformat_minor": 0,
  "metadata": {
    "colab": {
      "name": "Lexicon vs ML sentiment_analysis.ipynb",
      "provenance": [],
      "collapsed_sections": [],
      "toc_visible": true
    },
    "kernelspec": {
      "name": "python3",
      "display_name": "Python 3"
    },
    "widgets": {
      "application/vnd.jupyter.widget-state+json": {
        "5cbfdfc08a4246b18580bd2ae0890b89": {
          "model_module": "@jupyter-widgets/controls",
          "model_name": "HBoxModel",
          "state": {
            "_view_name": "HBoxView",
            "_dom_classes": [],
            "_model_name": "HBoxModel",
            "_view_module": "@jupyter-widgets/controls",
            "_model_module_version": "1.5.0",
            "_view_count": null,
            "_view_module_version": "1.5.0",
            "box_style": "",
            "layout": "IPY_MODEL_5304abda96ab41f196fca2a44c580b48",
            "_model_module": "@jupyter-widgets/controls",
            "children": [
              "IPY_MODEL_6aed64411f624d2fbfea61c04746eddd",
              "IPY_MODEL_f11d0dccef7d4b21b7354934df9fbc3e"
            ]
          }
        },
        "5304abda96ab41f196fca2a44c580b48": {
          "model_module": "@jupyter-widgets/base",
          "model_name": "LayoutModel",
          "state": {
            "_view_name": "LayoutView",
            "grid_template_rows": null,
            "right": null,
            "justify_content": null,
            "_view_module": "@jupyter-widgets/base",
            "overflow": null,
            "_model_module_version": "1.2.0",
            "_view_count": null,
            "flex_flow": null,
            "width": null,
            "min_width": null,
            "border": null,
            "align_items": null,
            "bottom": null,
            "_model_module": "@jupyter-widgets/base",
            "top": null,
            "grid_column": null,
            "overflow_y": null,
            "overflow_x": null,
            "grid_auto_flow": null,
            "grid_area": null,
            "grid_template_columns": null,
            "flex": null,
            "_model_name": "LayoutModel",
            "justify_items": null,
            "grid_row": null,
            "max_height": null,
            "align_content": null,
            "visibility": null,
            "align_self": null,
            "height": null,
            "min_height": null,
            "padding": null,
            "grid_auto_rows": null,
            "grid_gap": null,
            "max_width": null,
            "order": null,
            "_view_module_version": "1.2.0",
            "grid_template_areas": null,
            "object_position": null,
            "object_fit": null,
            "grid_auto_columns": null,
            "margin": null,
            "display": null,
            "left": null
          }
        },
        "6aed64411f624d2fbfea61c04746eddd": {
          "model_module": "@jupyter-widgets/controls",
          "model_name": "FloatProgressModel",
          "state": {
            "_view_name": "ProgressView",
            "style": "IPY_MODEL_dedf490bdf7a4f40be146f51ec6ed9a3",
            "_dom_classes": [],
            "description": "100%",
            "_model_name": "FloatProgressModel",
            "bar_style": "success",
            "max": 50000,
            "_view_module": "@jupyter-widgets/controls",
            "_model_module_version": "1.5.0",
            "value": 50000,
            "_view_count": null,
            "_view_module_version": "1.5.0",
            "orientation": "horizontal",
            "min": 0,
            "description_tooltip": null,
            "_model_module": "@jupyter-widgets/controls",
            "layout": "IPY_MODEL_215a10ec7c0d4f9280cb4daac5668d77"
          }
        },
        "f11d0dccef7d4b21b7354934df9fbc3e": {
          "model_module": "@jupyter-widgets/controls",
          "model_name": "HTMLModel",
          "state": {
            "_view_name": "HTMLView",
            "style": "IPY_MODEL_3deee6c6533b4de18608478f532ecaa5",
            "_dom_classes": [],
            "description": "",
            "_model_name": "HTMLModel",
            "placeholder": "​",
            "_view_module": "@jupyter-widgets/controls",
            "_model_module_version": "1.5.0",
            "value": " 50000/50000 [43:27&lt;00:00, 19.17it/s]",
            "_view_count": null,
            "_view_module_version": "1.5.0",
            "description_tooltip": null,
            "_model_module": "@jupyter-widgets/controls",
            "layout": "IPY_MODEL_372cb1ddf5044a3d88c81eb4ed498cc2"
          }
        },
        "dedf490bdf7a4f40be146f51ec6ed9a3": {
          "model_module": "@jupyter-widgets/controls",
          "model_name": "ProgressStyleModel",
          "state": {
            "_view_name": "StyleView",
            "_model_name": "ProgressStyleModel",
            "description_width": "initial",
            "_view_module": "@jupyter-widgets/base",
            "_model_module_version": "1.5.0",
            "_view_count": null,
            "_view_module_version": "1.2.0",
            "bar_color": null,
            "_model_module": "@jupyter-widgets/controls"
          }
        },
        "215a10ec7c0d4f9280cb4daac5668d77": {
          "model_module": "@jupyter-widgets/base",
          "model_name": "LayoutModel",
          "state": {
            "_view_name": "LayoutView",
            "grid_template_rows": null,
            "right": null,
            "justify_content": null,
            "_view_module": "@jupyter-widgets/base",
            "overflow": null,
            "_model_module_version": "1.2.0",
            "_view_count": null,
            "flex_flow": null,
            "width": null,
            "min_width": null,
            "border": null,
            "align_items": null,
            "bottom": null,
            "_model_module": "@jupyter-widgets/base",
            "top": null,
            "grid_column": null,
            "overflow_y": null,
            "overflow_x": null,
            "grid_auto_flow": null,
            "grid_area": null,
            "grid_template_columns": null,
            "flex": null,
            "_model_name": "LayoutModel",
            "justify_items": null,
            "grid_row": null,
            "max_height": null,
            "align_content": null,
            "visibility": null,
            "align_self": null,
            "height": null,
            "min_height": null,
            "padding": null,
            "grid_auto_rows": null,
            "grid_gap": null,
            "max_width": null,
            "order": null,
            "_view_module_version": "1.2.0",
            "grid_template_areas": null,
            "object_position": null,
            "object_fit": null,
            "grid_auto_columns": null,
            "margin": null,
            "display": null,
            "left": null
          }
        },
        "3deee6c6533b4de18608478f532ecaa5": {
          "model_module": "@jupyter-widgets/controls",
          "model_name": "DescriptionStyleModel",
          "state": {
            "_view_name": "StyleView",
            "_model_name": "DescriptionStyleModel",
            "description_width": "",
            "_view_module": "@jupyter-widgets/base",
            "_model_module_version": "1.5.0",
            "_view_count": null,
            "_view_module_version": "1.2.0",
            "_model_module": "@jupyter-widgets/controls"
          }
        },
        "372cb1ddf5044a3d88c81eb4ed498cc2": {
          "model_module": "@jupyter-widgets/base",
          "model_name": "LayoutModel",
          "state": {
            "_view_name": "LayoutView",
            "grid_template_rows": null,
            "right": null,
            "justify_content": null,
            "_view_module": "@jupyter-widgets/base",
            "overflow": null,
            "_model_module_version": "1.2.0",
            "_view_count": null,
            "flex_flow": null,
            "width": null,
            "min_width": null,
            "border": null,
            "align_items": null,
            "bottom": null,
            "_model_module": "@jupyter-widgets/base",
            "top": null,
            "grid_column": null,
            "overflow_y": null,
            "overflow_x": null,
            "grid_auto_flow": null,
            "grid_area": null,
            "grid_template_columns": null,
            "flex": null,
            "_model_name": "LayoutModel",
            "justify_items": null,
            "grid_row": null,
            "max_height": null,
            "align_content": null,
            "visibility": null,
            "align_self": null,
            "height": null,
            "min_height": null,
            "padding": null,
            "grid_auto_rows": null,
            "grid_gap": null,
            "max_width": null,
            "order": null,
            "_view_module_version": "1.2.0",
            "grid_template_areas": null,
            "object_position": null,
            "object_fit": null,
            "grid_auto_columns": null,
            "margin": null,
            "display": null,
            "left": null
          }
        },
        "d959b89fbfb542f88d467d70215b62a8": {
          "model_module": "@jupyter-widgets/controls",
          "model_name": "HBoxModel",
          "state": {
            "_view_name": "HBoxView",
            "_dom_classes": [],
            "_model_name": "HBoxModel",
            "_view_module": "@jupyter-widgets/controls",
            "_model_module_version": "1.5.0",
            "_view_count": null,
            "_view_module_version": "1.5.0",
            "box_style": "",
            "layout": "IPY_MODEL_98d30f5d132e44728d7f658fa3a0de0a",
            "_model_module": "@jupyter-widgets/controls",
            "children": [
              "IPY_MODEL_ca9b98e3f3dd48cf80b1202330bd21a4",
              "IPY_MODEL_3169c2d451504cbb930006ea1180dfa2"
            ]
          }
        },
        "98d30f5d132e44728d7f658fa3a0de0a": {
          "model_module": "@jupyter-widgets/base",
          "model_name": "LayoutModel",
          "state": {
            "_view_name": "LayoutView",
            "grid_template_rows": null,
            "right": null,
            "justify_content": null,
            "_view_module": "@jupyter-widgets/base",
            "overflow": null,
            "_model_module_version": "1.2.0",
            "_view_count": null,
            "flex_flow": null,
            "width": null,
            "min_width": null,
            "border": null,
            "align_items": null,
            "bottom": null,
            "_model_module": "@jupyter-widgets/base",
            "top": null,
            "grid_column": null,
            "overflow_y": null,
            "overflow_x": null,
            "grid_auto_flow": null,
            "grid_area": null,
            "grid_template_columns": null,
            "flex": null,
            "_model_name": "LayoutModel",
            "justify_items": null,
            "grid_row": null,
            "max_height": null,
            "align_content": null,
            "visibility": null,
            "align_self": null,
            "height": null,
            "min_height": null,
            "padding": null,
            "grid_auto_rows": null,
            "grid_gap": null,
            "max_width": null,
            "order": null,
            "_view_module_version": "1.2.0",
            "grid_template_areas": null,
            "object_position": null,
            "object_fit": null,
            "grid_auto_columns": null,
            "margin": null,
            "display": null,
            "left": null
          }
        },
        "ca9b98e3f3dd48cf80b1202330bd21a4": {
          "model_module": "@jupyter-widgets/controls",
          "model_name": "FloatProgressModel",
          "state": {
            "_view_name": "ProgressView",
            "style": "IPY_MODEL_d23af68e891d4da0929a27c41f33e4e6",
            "_dom_classes": [],
            "description": "100%",
            "_model_name": "FloatProgressModel",
            "bar_style": "success",
            "max": 50000,
            "_view_module": "@jupyter-widgets/controls",
            "_model_module_version": "1.5.0",
            "value": 50000,
            "_view_count": null,
            "_view_module_version": "1.5.0",
            "orientation": "horizontal",
            "min": 0,
            "description_tooltip": null,
            "_model_module": "@jupyter-widgets/controls",
            "layout": "IPY_MODEL_28eb414457644a198e35f0a3ce3ea4b2"
          }
        },
        "3169c2d451504cbb930006ea1180dfa2": {
          "model_module": "@jupyter-widgets/controls",
          "model_name": "HTMLModel",
          "state": {
            "_view_name": "HTMLView",
            "style": "IPY_MODEL_39d989327bf04de7b9e74b2f6e103c4b",
            "_dom_classes": [],
            "description": "",
            "_model_name": "HTMLModel",
            "placeholder": "​",
            "_view_module": "@jupyter-widgets/controls",
            "_model_module_version": "1.5.0",
            "value": " 50000/50000 [03:51&lt;00:00, 216.35it/s]",
            "_view_count": null,
            "_view_module_version": "1.5.0",
            "description_tooltip": null,
            "_model_module": "@jupyter-widgets/controls",
            "layout": "IPY_MODEL_60f1c85ac6e440afa75cf1ab2b8b84c6"
          }
        },
        "d23af68e891d4da0929a27c41f33e4e6": {
          "model_module": "@jupyter-widgets/controls",
          "model_name": "ProgressStyleModel",
          "state": {
            "_view_name": "StyleView",
            "_model_name": "ProgressStyleModel",
            "description_width": "initial",
            "_view_module": "@jupyter-widgets/base",
            "_model_module_version": "1.5.0",
            "_view_count": null,
            "_view_module_version": "1.2.0",
            "bar_color": null,
            "_model_module": "@jupyter-widgets/controls"
          }
        },
        "28eb414457644a198e35f0a3ce3ea4b2": {
          "model_module": "@jupyter-widgets/base",
          "model_name": "LayoutModel",
          "state": {
            "_view_name": "LayoutView",
            "grid_template_rows": null,
            "right": null,
            "justify_content": null,
            "_view_module": "@jupyter-widgets/base",
            "overflow": null,
            "_model_module_version": "1.2.0",
            "_view_count": null,
            "flex_flow": null,
            "width": null,
            "min_width": null,
            "border": null,
            "align_items": null,
            "bottom": null,
            "_model_module": "@jupyter-widgets/base",
            "top": null,
            "grid_column": null,
            "overflow_y": null,
            "overflow_x": null,
            "grid_auto_flow": null,
            "grid_area": null,
            "grid_template_columns": null,
            "flex": null,
            "_model_name": "LayoutModel",
            "justify_items": null,
            "grid_row": null,
            "max_height": null,
            "align_content": null,
            "visibility": null,
            "align_self": null,
            "height": null,
            "min_height": null,
            "padding": null,
            "grid_auto_rows": null,
            "grid_gap": null,
            "max_width": null,
            "order": null,
            "_view_module_version": "1.2.0",
            "grid_template_areas": null,
            "object_position": null,
            "object_fit": null,
            "grid_auto_columns": null,
            "margin": null,
            "display": null,
            "left": null
          }
        },
        "39d989327bf04de7b9e74b2f6e103c4b": {
          "model_module": "@jupyter-widgets/controls",
          "model_name": "DescriptionStyleModel",
          "state": {
            "_view_name": "StyleView",
            "_model_name": "DescriptionStyleModel",
            "description_width": "",
            "_view_module": "@jupyter-widgets/base",
            "_model_module_version": "1.5.0",
            "_view_count": null,
            "_view_module_version": "1.2.0",
            "_model_module": "@jupyter-widgets/controls"
          }
        },
        "60f1c85ac6e440afa75cf1ab2b8b84c6": {
          "model_module": "@jupyter-widgets/base",
          "model_name": "LayoutModel",
          "state": {
            "_view_name": "LayoutView",
            "grid_template_rows": null,
            "right": null,
            "justify_content": null,
            "_view_module": "@jupyter-widgets/base",
            "overflow": null,
            "_model_module_version": "1.2.0",
            "_view_count": null,
            "flex_flow": null,
            "width": null,
            "min_width": null,
            "border": null,
            "align_items": null,
            "bottom": null,
            "_model_module": "@jupyter-widgets/base",
            "top": null,
            "grid_column": null,
            "overflow_y": null,
            "overflow_x": null,
            "grid_auto_flow": null,
            "grid_area": null,
            "grid_template_columns": null,
            "flex": null,
            "_model_name": "LayoutModel",
            "justify_items": null,
            "grid_row": null,
            "max_height": null,
            "align_content": null,
            "visibility": null,
            "align_self": null,
            "height": null,
            "min_height": null,
            "padding": null,
            "grid_auto_rows": null,
            "grid_gap": null,
            "max_width": null,
            "order": null,
            "_view_module_version": "1.2.0",
            "grid_template_areas": null,
            "object_position": null,
            "object_fit": null,
            "grid_auto_columns": null,
            "margin": null,
            "display": null,
            "left": null
          }
        },
        "53bec297d4804086a47a5dd69455db4e": {
          "model_module": "@jupyter-widgets/controls",
          "model_name": "HBoxModel",
          "state": {
            "_view_name": "HBoxView",
            "_dom_classes": [],
            "_model_name": "HBoxModel",
            "_view_module": "@jupyter-widgets/controls",
            "_model_module_version": "1.5.0",
            "_view_count": null,
            "_view_module_version": "1.5.0",
            "box_style": "",
            "layout": "IPY_MODEL_3add3ecae2b540c2b91b880110e127b2",
            "_model_module": "@jupyter-widgets/controls",
            "children": [
              "IPY_MODEL_dabf6b2d6a3d4baaa084e512834fdc67",
              "IPY_MODEL_3e56fbf6368f4b87b923cde4370eb84c"
            ]
          }
        },
        "3add3ecae2b540c2b91b880110e127b2": {
          "model_module": "@jupyter-widgets/base",
          "model_name": "LayoutModel",
          "state": {
            "_view_name": "LayoutView",
            "grid_template_rows": null,
            "right": null,
            "justify_content": null,
            "_view_module": "@jupyter-widgets/base",
            "overflow": null,
            "_model_module_version": "1.2.0",
            "_view_count": null,
            "flex_flow": null,
            "width": null,
            "min_width": null,
            "border": null,
            "align_items": null,
            "bottom": null,
            "_model_module": "@jupyter-widgets/base",
            "top": null,
            "grid_column": null,
            "overflow_y": null,
            "overflow_x": null,
            "grid_auto_flow": null,
            "grid_area": null,
            "grid_template_columns": null,
            "flex": null,
            "_model_name": "LayoutModel",
            "justify_items": null,
            "grid_row": null,
            "max_height": null,
            "align_content": null,
            "visibility": null,
            "align_self": null,
            "height": null,
            "min_height": null,
            "padding": null,
            "grid_auto_rows": null,
            "grid_gap": null,
            "max_width": null,
            "order": null,
            "_view_module_version": "1.2.0",
            "grid_template_areas": null,
            "object_position": null,
            "object_fit": null,
            "grid_auto_columns": null,
            "margin": null,
            "display": null,
            "left": null
          }
        },
        "dabf6b2d6a3d4baaa084e512834fdc67": {
          "model_module": "@jupyter-widgets/controls",
          "model_name": "FloatProgressModel",
          "state": {
            "_view_name": "ProgressView",
            "style": "IPY_MODEL_6df3fe5e16d5410ab73ee9b2f5abddd6",
            "_dom_classes": [],
            "description": "100%",
            "_model_name": "FloatProgressModel",
            "bar_style": "success",
            "max": 50000,
            "_view_module": "@jupyter-widgets/controls",
            "_model_module_version": "1.5.0",
            "value": 50000,
            "_view_count": null,
            "_view_module_version": "1.5.0",
            "orientation": "horizontal",
            "min": 0,
            "description_tooltip": null,
            "_model_module": "@jupyter-widgets/controls",
            "layout": "IPY_MODEL_fd20f827385c491ea2d403d67b9cdabe"
          }
        },
        "3e56fbf6368f4b87b923cde4370eb84c": {
          "model_module": "@jupyter-widgets/controls",
          "model_name": "HTMLModel",
          "state": {
            "_view_name": "HTMLView",
            "style": "IPY_MODEL_14d75d1efb184c6b8e675b14e8b0b38a",
            "_dom_classes": [],
            "description": "",
            "_model_name": "HTMLModel",
            "placeholder": "​",
            "_view_module": "@jupyter-widgets/controls",
            "_model_module_version": "1.5.0",
            "value": " 50000/50000 [30:12&lt;00:00, 27.58it/s]",
            "_view_count": null,
            "_view_module_version": "1.5.0",
            "description_tooltip": null,
            "_model_module": "@jupyter-widgets/controls",
            "layout": "IPY_MODEL_9c267834f954415eb6afea4abe478b2c"
          }
        },
        "6df3fe5e16d5410ab73ee9b2f5abddd6": {
          "model_module": "@jupyter-widgets/controls",
          "model_name": "ProgressStyleModel",
          "state": {
            "_view_name": "StyleView",
            "_model_name": "ProgressStyleModel",
            "description_width": "initial",
            "_view_module": "@jupyter-widgets/base",
            "_model_module_version": "1.5.0",
            "_view_count": null,
            "_view_module_version": "1.2.0",
            "bar_color": null,
            "_model_module": "@jupyter-widgets/controls"
          }
        },
        "fd20f827385c491ea2d403d67b9cdabe": {
          "model_module": "@jupyter-widgets/base",
          "model_name": "LayoutModel",
          "state": {
            "_view_name": "LayoutView",
            "grid_template_rows": null,
            "right": null,
            "justify_content": null,
            "_view_module": "@jupyter-widgets/base",
            "overflow": null,
            "_model_module_version": "1.2.0",
            "_view_count": null,
            "flex_flow": null,
            "width": null,
            "min_width": null,
            "border": null,
            "align_items": null,
            "bottom": null,
            "_model_module": "@jupyter-widgets/base",
            "top": null,
            "grid_column": null,
            "overflow_y": null,
            "overflow_x": null,
            "grid_auto_flow": null,
            "grid_area": null,
            "grid_template_columns": null,
            "flex": null,
            "_model_name": "LayoutModel",
            "justify_items": null,
            "grid_row": null,
            "max_height": null,
            "align_content": null,
            "visibility": null,
            "align_self": null,
            "height": null,
            "min_height": null,
            "padding": null,
            "grid_auto_rows": null,
            "grid_gap": null,
            "max_width": null,
            "order": null,
            "_view_module_version": "1.2.0",
            "grid_template_areas": null,
            "object_position": null,
            "object_fit": null,
            "grid_auto_columns": null,
            "margin": null,
            "display": null,
            "left": null
          }
        },
        "14d75d1efb184c6b8e675b14e8b0b38a": {
          "model_module": "@jupyter-widgets/controls",
          "model_name": "DescriptionStyleModel",
          "state": {
            "_view_name": "StyleView",
            "_model_name": "DescriptionStyleModel",
            "description_width": "",
            "_view_module": "@jupyter-widgets/base",
            "_model_module_version": "1.5.0",
            "_view_count": null,
            "_view_module_version": "1.2.0",
            "_model_module": "@jupyter-widgets/controls"
          }
        },
        "9c267834f954415eb6afea4abe478b2c": {
          "model_module": "@jupyter-widgets/base",
          "model_name": "LayoutModel",
          "state": {
            "_view_name": "LayoutView",
            "grid_template_rows": null,
            "right": null,
            "justify_content": null,
            "_view_module": "@jupyter-widgets/base",
            "overflow": null,
            "_model_module_version": "1.2.0",
            "_view_count": null,
            "flex_flow": null,
            "width": null,
            "min_width": null,
            "border": null,
            "align_items": null,
            "bottom": null,
            "_model_module": "@jupyter-widgets/base",
            "top": null,
            "grid_column": null,
            "overflow_y": null,
            "overflow_x": null,
            "grid_auto_flow": null,
            "grid_area": null,
            "grid_template_columns": null,
            "flex": null,
            "_model_name": "LayoutModel",
            "justify_items": null,
            "grid_row": null,
            "max_height": null,
            "align_content": null,
            "visibility": null,
            "align_self": null,
            "height": null,
            "min_height": null,
            "padding": null,
            "grid_auto_rows": null,
            "grid_gap": null,
            "max_width": null,
            "order": null,
            "_view_module_version": "1.2.0",
            "grid_template_areas": null,
            "object_position": null,
            "object_fit": null,
            "grid_auto_columns": null,
            "margin": null,
            "display": null,
            "left": null
          }
        },
        "a64e3fa579d84f92b0f68693bf28bbca": {
          "model_module": "@jupyter-widgets/controls",
          "model_name": "HBoxModel",
          "state": {
            "_view_name": "HBoxView",
            "_dom_classes": [],
            "_model_name": "HBoxModel",
            "_view_module": "@jupyter-widgets/controls",
            "_model_module_version": "1.5.0",
            "_view_count": null,
            "_view_module_version": "1.5.0",
            "box_style": "",
            "layout": "IPY_MODEL_ddff753d05c3444ea820336c437db503",
            "_model_module": "@jupyter-widgets/controls",
            "children": [
              "IPY_MODEL_2a8931f742b545a9941a22e73eae46c0",
              "IPY_MODEL_eb1255692ca04fe9a3619548e1703c4c"
            ]
          }
        },
        "ddff753d05c3444ea820336c437db503": {
          "model_module": "@jupyter-widgets/base",
          "model_name": "LayoutModel",
          "state": {
            "_view_name": "LayoutView",
            "grid_template_rows": null,
            "right": null,
            "justify_content": null,
            "_view_module": "@jupyter-widgets/base",
            "overflow": null,
            "_model_module_version": "1.2.0",
            "_view_count": null,
            "flex_flow": null,
            "width": null,
            "min_width": null,
            "border": null,
            "align_items": null,
            "bottom": null,
            "_model_module": "@jupyter-widgets/base",
            "top": null,
            "grid_column": null,
            "overflow_y": null,
            "overflow_x": null,
            "grid_auto_flow": null,
            "grid_area": null,
            "grid_template_columns": null,
            "flex": null,
            "_model_name": "LayoutModel",
            "justify_items": null,
            "grid_row": null,
            "max_height": null,
            "align_content": null,
            "visibility": null,
            "align_self": null,
            "height": null,
            "min_height": null,
            "padding": null,
            "grid_auto_rows": null,
            "grid_gap": null,
            "max_width": null,
            "order": null,
            "_view_module_version": "1.2.0",
            "grid_template_areas": null,
            "object_position": null,
            "object_fit": null,
            "grid_auto_columns": null,
            "margin": null,
            "display": null,
            "left": null
          }
        },
        "2a8931f742b545a9941a22e73eae46c0": {
          "model_module": "@jupyter-widgets/controls",
          "model_name": "FloatProgressModel",
          "state": {
            "_view_name": "ProgressView",
            "style": "IPY_MODEL_fe8e7e9bd8bf4892952d2bccb16885be",
            "_dom_classes": [],
            "description": "100%",
            "_model_name": "FloatProgressModel",
            "bar_style": "success",
            "max": 50000,
            "_view_module": "@jupyter-widgets/controls",
            "_model_module_version": "1.5.0",
            "value": 50000,
            "_view_count": null,
            "_view_module_version": "1.5.0",
            "orientation": "horizontal",
            "min": 0,
            "description_tooltip": null,
            "_model_module": "@jupyter-widgets/controls",
            "layout": "IPY_MODEL_908ea84abb2c4e5da26ae818e6e5f9a8"
          }
        },
        "eb1255692ca04fe9a3619548e1703c4c": {
          "model_module": "@jupyter-widgets/controls",
          "model_name": "HTMLModel",
          "state": {
            "_view_name": "HTMLView",
            "style": "IPY_MODEL_cdd18c83c9134674a1f20ed3296d5227",
            "_dom_classes": [],
            "description": "",
            "_model_name": "HTMLModel",
            "placeholder": "​",
            "_view_module": "@jupyter-widgets/controls",
            "_model_module_version": "1.5.0",
            "value": " 50000/50000 [07:36&lt;00:00, 109.56it/s]",
            "_view_count": null,
            "_view_module_version": "1.5.0",
            "description_tooltip": null,
            "_model_module": "@jupyter-widgets/controls",
            "layout": "IPY_MODEL_c86d52ee09a04257aee77568c773de04"
          }
        },
        "fe8e7e9bd8bf4892952d2bccb16885be": {
          "model_module": "@jupyter-widgets/controls",
          "model_name": "ProgressStyleModel",
          "state": {
            "_view_name": "StyleView",
            "_model_name": "ProgressStyleModel",
            "description_width": "initial",
            "_view_module": "@jupyter-widgets/base",
            "_model_module_version": "1.5.0",
            "_view_count": null,
            "_view_module_version": "1.2.0",
            "bar_color": null,
            "_model_module": "@jupyter-widgets/controls"
          }
        },
        "908ea84abb2c4e5da26ae818e6e5f9a8": {
          "model_module": "@jupyter-widgets/base",
          "model_name": "LayoutModel",
          "state": {
            "_view_name": "LayoutView",
            "grid_template_rows": null,
            "right": null,
            "justify_content": null,
            "_view_module": "@jupyter-widgets/base",
            "overflow": null,
            "_model_module_version": "1.2.0",
            "_view_count": null,
            "flex_flow": null,
            "width": null,
            "min_width": null,
            "border": null,
            "align_items": null,
            "bottom": null,
            "_model_module": "@jupyter-widgets/base",
            "top": null,
            "grid_column": null,
            "overflow_y": null,
            "overflow_x": null,
            "grid_auto_flow": null,
            "grid_area": null,
            "grid_template_columns": null,
            "flex": null,
            "_model_name": "LayoutModel",
            "justify_items": null,
            "grid_row": null,
            "max_height": null,
            "align_content": null,
            "visibility": null,
            "align_self": null,
            "height": null,
            "min_height": null,
            "padding": null,
            "grid_auto_rows": null,
            "grid_gap": null,
            "max_width": null,
            "order": null,
            "_view_module_version": "1.2.0",
            "grid_template_areas": null,
            "object_position": null,
            "object_fit": null,
            "grid_auto_columns": null,
            "margin": null,
            "display": null,
            "left": null
          }
        },
        "cdd18c83c9134674a1f20ed3296d5227": {
          "model_module": "@jupyter-widgets/controls",
          "model_name": "DescriptionStyleModel",
          "state": {
            "_view_name": "StyleView",
            "_model_name": "DescriptionStyleModel",
            "description_width": "",
            "_view_module": "@jupyter-widgets/base",
            "_model_module_version": "1.5.0",
            "_view_count": null,
            "_view_module_version": "1.2.0",
            "_model_module": "@jupyter-widgets/controls"
          }
        },
        "c86d52ee09a04257aee77568c773de04": {
          "model_module": "@jupyter-widgets/base",
          "model_name": "LayoutModel",
          "state": {
            "_view_name": "LayoutView",
            "grid_template_rows": null,
            "right": null,
            "justify_content": null,
            "_view_module": "@jupyter-widgets/base",
            "overflow": null,
            "_model_module_version": "1.2.0",
            "_view_count": null,
            "flex_flow": null,
            "width": null,
            "min_width": null,
            "border": null,
            "align_items": null,
            "bottom": null,
            "_model_module": "@jupyter-widgets/base",
            "top": null,
            "grid_column": null,
            "overflow_y": null,
            "overflow_x": null,
            "grid_auto_flow": null,
            "grid_area": null,
            "grid_template_columns": null,
            "flex": null,
            "_model_name": "LayoutModel",
            "justify_items": null,
            "grid_row": null,
            "max_height": null,
            "align_content": null,
            "visibility": null,
            "align_self": null,
            "height": null,
            "min_height": null,
            "padding": null,
            "grid_auto_rows": null,
            "grid_gap": null,
            "max_width": null,
            "order": null,
            "_view_module_version": "1.2.0",
            "grid_template_areas": null,
            "object_position": null,
            "object_fit": null,
            "grid_auto_columns": null,
            "margin": null,
            "display": null,
            "left": null
          }
        }
      }
    }
  },
  "cells": [
    {
      "cell_type": "markdown",
      "metadata": {
        "id": "L2PIN47dIL9U"
      },
      "source": [
        "# Lexical models vs Machine Learning"
      ]
    },
    {
      "cell_type": "markdown",
      "metadata": {
        "id": "UdwLulpI2Omn"
      },
      "source": [
        ""
      ]
    },
    {
      "cell_type": "markdown",
      "metadata": {
        "id": "aNQ01w2b2WU-"
      },
      "source": [
        "## Load the dataset"
      ]
    },
    {
      "cell_type": "code",
      "metadata": {
        "id": "t7LSHFv0D-9P",
        "colab": {
          "base_uri": "https://localhost:8080/"
        },
        "outputId": "16bdc0aa-abf8-4d4c-d01f-901ec77d58f8"
      },
      "source": [
        "!wget http://ai.stanford.edu/~amaas/data/sentiment/aclImdb_v1.tar.gz\n",
        "!tar -xzf \"/content/aclImdb_v1.tar.gz\"\n",
        "!pip install lxml\n",
        "!pip install afinn"
      ],
      "execution_count": 1,
      "outputs": [
        {
          "output_type": "stream",
          "text": [
            "--2021-01-04 14:01:09--  http://ai.stanford.edu/~amaas/data/sentiment/aclImdb_v1.tar.gz\n",
            "Resolving ai.stanford.edu (ai.stanford.edu)... 171.64.68.10\n",
            "Connecting to ai.stanford.edu (ai.stanford.edu)|171.64.68.10|:80... connected.\n",
            "HTTP request sent, awaiting response... 200 OK\n",
            "Length: 84125825 (80M) [application/x-gzip]\n",
            "Saving to: ‘aclImdb_v1.tar.gz.1’\n",
            "\n",
            "aclImdb_v1.tar.gz.1 100%[===================>]  80.23M  17.7MB/s    in 11s     \n",
            "\n",
            "2021-01-04 14:01:20 (7.58 MB/s) - ‘aclImdb_v1.tar.gz.1’ saved [84125825/84125825]\n",
            "\n",
            "Requirement already satisfied: lxml in /usr/local/lib/python3.6/dist-packages (4.2.6)\n",
            "Requirement already satisfied: afinn in /usr/local/lib/python3.6/dist-packages (0.1)\n"
          ],
          "name": "stdout"
        }
      ]
    },
    {
      "cell_type": "code",
      "metadata": {
        "id": "80CfYNjJ_uKT",
        "colab": {
          "base_uri": "https://localhost:8080/"
        },
        "outputId": "7ad0c200-1db3-4206-d584-12291177593a"
      },
      "source": [
        "import pandas as pd\n",
        "import os\n",
        "from sklearn.utils import shuffle\n",
        "\n",
        "reviews=[]\n",
        "sentiments=[]\n",
        "\n",
        "lst=os.listdir('/content/aclImdb/train/pos/')\n",
        "for fil in lst:\n",
        "  with open('/content/aclImdb/train/pos/'+fil) as f:\n",
        "    reviews.append(f.read())\n",
        "    sentiments.append(\"positive\")\n",
        "\n",
        "lst=os.listdir('/content/aclImdb/train/neg/')\n",
        "for fil in lst:\n",
        "  with open('/content/aclImdb/train/neg/'+fil) as f:\n",
        "    reviews.append(f.read())\n",
        "    sentiments.append(\"negative\")\n",
        "\n",
        "\n",
        "lst=os.listdir('/content/aclImdb/test/pos/')\n",
        "for fil in lst:\n",
        "  with open('/content/aclImdb/test/pos/'+fil) as f:\n",
        "    reviews.append(f.read())\n",
        "    sentiments.append(\"positive\")\n",
        "    \n",
        "lst=os.listdir('/content/aclImdb/test/neg/')\n",
        "for fil in lst:\n",
        "  with open('/content/aclImdb/test/neg/'+fil) as f:\n",
        "    reviews.append(f.read())\n",
        "    sentiments.append(\"negative\")\n",
        "\n",
        "total_df=pd.DataFrame({\"review\":reviews,\"sentiment\":sentiments})\n",
        "total_df=shuffle(total_df)\n",
        "total_df=total_df.reset_index(drop=True)\n",
        "print(total_df.head())\n",
        "\n",
        "print(len(total_df))\n"
      ],
      "execution_count": 2,
      "outputs": [
        {
          "output_type": "stream",
          "text": [
            "                                              review sentiment\n",
            "0  It would be great if a discussion on this medi...  positive\n",
            "1  Should this be an American movie I'd rate it 7...  positive\n",
            "2  This movie is beautiful in many ways: the plot...  positive\n",
            "3  Despite all of the comparisons to House of Fra...  positive\n",
            "4  I'm normally not a Drama/Feel good movie kind ...  positive\n",
            "50000\n"
          ],
          "name": "stdout"
        }
      ]
    },
    {
      "cell_type": "markdown",
      "metadata": {
        "id": "LWeASf012f7A"
      },
      "source": [
        "## Fulfilling all Dependencies"
      ]
    },
    {
      "cell_type": "code",
      "metadata": {
        "id": "Y07r1nIcI2KP",
        "colab": {
          "base_uri": "https://localhost:8080/"
        },
        "outputId": "b7186457-977e-4658-ab45-15a9226c831d"
      },
      "source": [
        "import spacy\n",
        "import pandas as pd\n",
        "import numpy as np\n",
        "import nltk\n",
        "from nltk.tokenize.toktok import ToktokTokenizer\n",
        "import re\n",
        "from bs4 import BeautifulSoup\n",
        "import unicodedata\n",
        "\n",
        "nltk.download('all', halt_on_error=False)\n",
        "nlp=spacy.load('en',parse=False,tag=False,entity=False)\n",
        "tokenizer=ToktokTokenizer()\n",
        "stopword_list=nltk.corpus.stopwords.words('english')\n",
        "stopword_list.remove('no')\n",
        "stopword_list.remove('not')"
      ],
      "execution_count": 3,
      "outputs": [
        {
          "output_type": "stream",
          "text": [
            "[nltk_data] Downloading collection 'all'\n",
            "[nltk_data]    | \n",
            "[nltk_data]    | Downloading package abc to /root/nltk_data...\n",
            "[nltk_data]    |   Package abc is already up-to-date!\n",
            "[nltk_data]    | Downloading package alpino to /root/nltk_data...\n",
            "[nltk_data]    |   Package alpino is already up-to-date!\n",
            "[nltk_data]    | Downloading package biocreative_ppi to\n",
            "[nltk_data]    |     /root/nltk_data...\n",
            "[nltk_data]    |   Package biocreative_ppi is already up-to-date!\n",
            "[nltk_data]    | Downloading package brown to /root/nltk_data...\n",
            "[nltk_data]    |   Package brown is already up-to-date!\n",
            "[nltk_data]    | Downloading package brown_tei to /root/nltk_data...\n",
            "[nltk_data]    |   Package brown_tei is already up-to-date!\n",
            "[nltk_data]    | Downloading package cess_cat to /root/nltk_data...\n",
            "[nltk_data]    |   Package cess_cat is already up-to-date!\n",
            "[nltk_data]    | Downloading package cess_esp to /root/nltk_data...\n",
            "[nltk_data]    |   Package cess_esp is already up-to-date!\n",
            "[nltk_data]    | Downloading package chat80 to /root/nltk_data...\n",
            "[nltk_data]    |   Package chat80 is already up-to-date!\n",
            "[nltk_data]    | Downloading package city_database to\n",
            "[nltk_data]    |     /root/nltk_data...\n",
            "[nltk_data]    |   Package city_database is already up-to-date!\n",
            "[nltk_data]    | Downloading package cmudict to /root/nltk_data...\n",
            "[nltk_data]    |   Package cmudict is already up-to-date!\n",
            "[nltk_data]    | Downloading package comparative_sentences to\n",
            "[nltk_data]    |     /root/nltk_data...\n",
            "[nltk_data]    |   Package comparative_sentences is already up-to-\n",
            "[nltk_data]    |       date!\n",
            "[nltk_data]    | Downloading package comtrans to /root/nltk_data...\n",
            "[nltk_data]    |   Package comtrans is already up-to-date!\n",
            "[nltk_data]    | Downloading package conll2000 to /root/nltk_data...\n",
            "[nltk_data]    |   Package conll2000 is already up-to-date!\n",
            "[nltk_data]    | Downloading package conll2002 to /root/nltk_data...\n",
            "[nltk_data]    |   Package conll2002 is already up-to-date!\n",
            "[nltk_data]    | Downloading package conll2007 to /root/nltk_data...\n",
            "[nltk_data]    |   Package conll2007 is already up-to-date!\n",
            "[nltk_data]    | Downloading package crubadan to /root/nltk_data...\n",
            "[nltk_data]    |   Package crubadan is already up-to-date!\n",
            "[nltk_data]    | Downloading package dependency_treebank to\n",
            "[nltk_data]    |     /root/nltk_data...\n",
            "[nltk_data]    |   Package dependency_treebank is already up-to-date!\n",
            "[nltk_data]    | Downloading package dolch to /root/nltk_data...\n",
            "[nltk_data]    |   Package dolch is already up-to-date!\n",
            "[nltk_data]    | Downloading package europarl_raw to\n",
            "[nltk_data]    |     /root/nltk_data...\n",
            "[nltk_data]    |   Package europarl_raw is already up-to-date!\n",
            "[nltk_data]    | Downloading package floresta to /root/nltk_data...\n",
            "[nltk_data]    |   Package floresta is already up-to-date!\n",
            "[nltk_data]    | Downloading package framenet_v15 to\n",
            "[nltk_data]    |     /root/nltk_data...\n",
            "[nltk_data]    |   Package framenet_v15 is already up-to-date!\n",
            "[nltk_data]    | Downloading package framenet_v17 to\n",
            "[nltk_data]    |     /root/nltk_data...\n",
            "[nltk_data]    |   Package framenet_v17 is already up-to-date!\n",
            "[nltk_data]    | Downloading package gazetteers to /root/nltk_data...\n",
            "[nltk_data]    |   Package gazetteers is already up-to-date!\n",
            "[nltk_data]    | Downloading package genesis to /root/nltk_data...\n",
            "[nltk_data]    |   Package genesis is already up-to-date!\n",
            "[nltk_data]    | Downloading package gutenberg to /root/nltk_data...\n",
            "[nltk_data]    |   Package gutenberg is already up-to-date!\n",
            "[nltk_data]    | Downloading package ieer to /root/nltk_data...\n",
            "[nltk_data]    |   Package ieer is already up-to-date!\n",
            "[nltk_data]    | Downloading package inaugural to /root/nltk_data...\n",
            "[nltk_data]    |   Package inaugural is already up-to-date!\n",
            "[nltk_data]    | Downloading package indian to /root/nltk_data...\n",
            "[nltk_data]    |   Package indian is already up-to-date!\n",
            "[nltk_data]    | Downloading package jeita to /root/nltk_data...\n",
            "[nltk_data]    |   Package jeita is already up-to-date!\n",
            "[nltk_data]    | Downloading package kimmo to /root/nltk_data...\n",
            "[nltk_data]    |   Package kimmo is already up-to-date!\n",
            "[nltk_data]    | Downloading package knbc to /root/nltk_data...\n",
            "[nltk_data]    |   Package knbc is already up-to-date!\n",
            "[nltk_data]    | Downloading package lin_thesaurus to\n",
            "[nltk_data]    |     /root/nltk_data...\n",
            "[nltk_data]    |   Package lin_thesaurus is already up-to-date!\n",
            "[nltk_data]    | Downloading package mac_morpho to /root/nltk_data...\n",
            "[nltk_data]    |   Package mac_morpho is already up-to-date!\n",
            "[nltk_data]    | Downloading package machado to /root/nltk_data...\n",
            "[nltk_data]    |   Package machado is already up-to-date!\n",
            "[nltk_data]    | Downloading package masc_tagged to /root/nltk_data...\n",
            "[nltk_data]    |   Package masc_tagged is already up-to-date!\n",
            "[nltk_data]    | Downloading package moses_sample to\n",
            "[nltk_data]    |     /root/nltk_data...\n",
            "[nltk_data]    |   Package moses_sample is already up-to-date!\n",
            "[nltk_data]    | Downloading package movie_reviews to\n",
            "[nltk_data]    |     /root/nltk_data...\n",
            "[nltk_data]    |   Package movie_reviews is already up-to-date!\n",
            "[nltk_data]    | Downloading package names to /root/nltk_data...\n",
            "[nltk_data]    |   Package names is already up-to-date!\n",
            "[nltk_data]    | Downloading package nombank.1.0 to /root/nltk_data...\n",
            "[nltk_data]    |   Package nombank.1.0 is already up-to-date!\n",
            "[nltk_data]    | Downloading package nps_chat to /root/nltk_data...\n",
            "[nltk_data]    |   Package nps_chat is already up-to-date!\n",
            "[nltk_data]    | Downloading package omw to /root/nltk_data...\n",
            "[nltk_data]    |   Package omw is already up-to-date!\n",
            "[nltk_data]    | Downloading package opinion_lexicon to\n",
            "[nltk_data]    |     /root/nltk_data...\n",
            "[nltk_data]    |   Package opinion_lexicon is already up-to-date!\n",
            "[nltk_data]    | Downloading package paradigms to /root/nltk_data...\n",
            "[nltk_data]    |   Package paradigms is already up-to-date!\n",
            "[nltk_data]    | Downloading package pil to /root/nltk_data...\n",
            "[nltk_data]    |   Package pil is already up-to-date!\n",
            "[nltk_data]    | Downloading package pl196x to /root/nltk_data...\n",
            "[nltk_data]    |   Package pl196x is already up-to-date!\n",
            "[nltk_data]    | Downloading package ppattach to /root/nltk_data...\n",
            "[nltk_data]    |   Package ppattach is already up-to-date!\n",
            "[nltk_data]    | Downloading package problem_reports to\n",
            "[nltk_data]    |     /root/nltk_data...\n",
            "[nltk_data]    |   Package problem_reports is already up-to-date!\n",
            "[nltk_data]    | Downloading package propbank to /root/nltk_data...\n",
            "[nltk_data]    |   Package propbank is already up-to-date!\n",
            "[nltk_data]    | Downloading package ptb to /root/nltk_data...\n",
            "[nltk_data]    |   Package ptb is already up-to-date!\n",
            "[nltk_data]    | Downloading package product_reviews_1 to\n",
            "[nltk_data]    |     /root/nltk_data...\n",
            "[nltk_data]    |   Package product_reviews_1 is already up-to-date!\n",
            "[nltk_data]    | Downloading package product_reviews_2 to\n",
            "[nltk_data]    |     /root/nltk_data...\n",
            "[nltk_data]    |   Package product_reviews_2 is already up-to-date!\n",
            "[nltk_data]    | Downloading package pros_cons to /root/nltk_data...\n",
            "[nltk_data]    |   Package pros_cons is already up-to-date!\n",
            "[nltk_data]    | Downloading package qc to /root/nltk_data...\n",
            "[nltk_data]    |   Package qc is already up-to-date!\n",
            "[nltk_data]    | Downloading package reuters to /root/nltk_data...\n",
            "[nltk_data]    |   Package reuters is already up-to-date!\n",
            "[nltk_data]    | Downloading package rte to /root/nltk_data...\n",
            "[nltk_data]    |   Package rte is already up-to-date!\n",
            "[nltk_data]    | Downloading package semcor to /root/nltk_data...\n",
            "[nltk_data]    |   Package semcor is already up-to-date!\n",
            "[nltk_data]    | Downloading package senseval to /root/nltk_data...\n",
            "[nltk_data]    |   Package senseval is already up-to-date!\n",
            "[nltk_data]    | Downloading package sentiwordnet to\n",
            "[nltk_data]    |     /root/nltk_data...\n",
            "[nltk_data]    |   Package sentiwordnet is already up-to-date!\n",
            "[nltk_data]    | Downloading package sentence_polarity to\n",
            "[nltk_data]    |     /root/nltk_data...\n",
            "[nltk_data]    |   Package sentence_polarity is already up-to-date!\n",
            "[nltk_data]    | Downloading package shakespeare to /root/nltk_data...\n",
            "[nltk_data]    |   Package shakespeare is already up-to-date!\n",
            "[nltk_data]    | Downloading package sinica_treebank to\n",
            "[nltk_data]    |     /root/nltk_data...\n",
            "[nltk_data]    |   Package sinica_treebank is already up-to-date!\n",
            "[nltk_data]    | Downloading package smultron to /root/nltk_data...\n",
            "[nltk_data]    |   Package smultron is already up-to-date!\n",
            "[nltk_data]    | Downloading package state_union to /root/nltk_data...\n",
            "[nltk_data]    |   Package state_union is already up-to-date!\n",
            "[nltk_data]    | Downloading package stopwords to /root/nltk_data...\n",
            "[nltk_data]    |   Package stopwords is already up-to-date!\n",
            "[nltk_data]    | Downloading package subjectivity to\n",
            "[nltk_data]    |     /root/nltk_data...\n",
            "[nltk_data]    |   Package subjectivity is already up-to-date!\n",
            "[nltk_data]    | Downloading package swadesh to /root/nltk_data...\n",
            "[nltk_data]    |   Package swadesh is already up-to-date!\n",
            "[nltk_data]    | Downloading package switchboard to /root/nltk_data...\n",
            "[nltk_data]    |   Package switchboard is already up-to-date!\n",
            "[nltk_data]    | Downloading package timit to /root/nltk_data...\n",
            "[nltk_data]    |   Package timit is already up-to-date!\n",
            "[nltk_data]    | Downloading package toolbox to /root/nltk_data...\n",
            "[nltk_data]    |   Package toolbox is already up-to-date!\n",
            "[nltk_data]    | Downloading package treebank to /root/nltk_data...\n",
            "[nltk_data]    |   Package treebank is already up-to-date!\n",
            "[nltk_data]    | Downloading package twitter_samples to\n",
            "[nltk_data]    |     /root/nltk_data...\n",
            "[nltk_data]    |   Package twitter_samples is already up-to-date!\n",
            "[nltk_data]    | Downloading package udhr to /root/nltk_data...\n",
            "[nltk_data]    |   Package udhr is already up-to-date!\n",
            "[nltk_data]    | Downloading package udhr2 to /root/nltk_data...\n",
            "[nltk_data]    |   Package udhr2 is already up-to-date!\n",
            "[nltk_data]    | Downloading package unicode_samples to\n",
            "[nltk_data]    |     /root/nltk_data...\n",
            "[nltk_data]    |   Package unicode_samples is already up-to-date!\n",
            "[nltk_data]    | Downloading package universal_treebanks_v20 to\n",
            "[nltk_data]    |     /root/nltk_data...\n",
            "[nltk_data]    |   Package universal_treebanks_v20 is already up-to-\n",
            "[nltk_data]    |       date!\n",
            "[nltk_data]    | Downloading package verbnet to /root/nltk_data...\n",
            "[nltk_data]    |   Package verbnet is already up-to-date!\n",
            "[nltk_data]    | Downloading package verbnet3 to /root/nltk_data...\n",
            "[nltk_data]    |   Package verbnet3 is already up-to-date!\n",
            "[nltk_data]    | Downloading package webtext to /root/nltk_data...\n",
            "[nltk_data]    |   Package webtext is already up-to-date!\n",
            "[nltk_data]    | Downloading package wordnet to /root/nltk_data...\n",
            "[nltk_data]    |   Package wordnet is already up-to-date!\n",
            "[nltk_data]    | Downloading package wordnet_ic to /root/nltk_data...\n",
            "[nltk_data]    |   Package wordnet_ic is already up-to-date!\n",
            "[nltk_data]    | Downloading package words to /root/nltk_data...\n",
            "[nltk_data]    |   Package words is already up-to-date!\n",
            "[nltk_data]    | Downloading package ycoe to /root/nltk_data...\n",
            "[nltk_data]    |   Package ycoe is already up-to-date!\n",
            "[nltk_data]    | Downloading package rslp to /root/nltk_data...\n",
            "[nltk_data]    |   Package rslp is already up-to-date!\n",
            "[nltk_data]    | Downloading package maxent_treebank_pos_tagger to\n",
            "[nltk_data]    |     /root/nltk_data...\n",
            "[nltk_data]    |   Package maxent_treebank_pos_tagger is already up-\n",
            "[nltk_data]    |       to-date!\n",
            "[nltk_data]    | Downloading package universal_tagset to\n",
            "[nltk_data]    |     /root/nltk_data...\n",
            "[nltk_data]    |   Package universal_tagset is already up-to-date!\n",
            "[nltk_data]    | Downloading package maxent_ne_chunker to\n",
            "[nltk_data]    |     /root/nltk_data...\n",
            "[nltk_data]    |   Package maxent_ne_chunker is already up-to-date!\n",
            "[nltk_data]    | Downloading package punkt to /root/nltk_data...\n",
            "[nltk_data]    |   Package punkt is already up-to-date!\n",
            "[nltk_data]    | Downloading package book_grammars to\n",
            "[nltk_data]    |     /root/nltk_data...\n",
            "[nltk_data]    |   Package book_grammars is already up-to-date!\n",
            "[nltk_data]    | Downloading package sample_grammars to\n",
            "[nltk_data]    |     /root/nltk_data...\n",
            "[nltk_data]    |   Package sample_grammars is already up-to-date!\n",
            "[nltk_data]    | Downloading package spanish_grammars to\n",
            "[nltk_data]    |     /root/nltk_data...\n",
            "[nltk_data]    |   Package spanish_grammars is already up-to-date!\n",
            "[nltk_data]    | Downloading package basque_grammars to\n",
            "[nltk_data]    |     /root/nltk_data...\n",
            "[nltk_data]    |   Package basque_grammars is already up-to-date!\n",
            "[nltk_data]    | Downloading package large_grammars to\n",
            "[nltk_data]    |     /root/nltk_data...\n",
            "[nltk_data]    |   Package large_grammars is already up-to-date!\n",
            "[nltk_data]    | Downloading package tagsets to /root/nltk_data...\n",
            "[nltk_data]    |   Package tagsets is already up-to-date!\n",
            "[nltk_data]    | Downloading package snowball_data to\n",
            "[nltk_data]    |     /root/nltk_data...\n",
            "[nltk_data]    |   Package snowball_data is already up-to-date!\n",
            "[nltk_data]    | Downloading package bllip_wsj_no_aux to\n",
            "[nltk_data]    |     /root/nltk_data...\n",
            "[nltk_data]    |   Package bllip_wsj_no_aux is already up-to-date!\n",
            "[nltk_data]    | Downloading package word2vec_sample to\n",
            "[nltk_data]    |     /root/nltk_data...\n",
            "[nltk_data]    |   Package word2vec_sample is already up-to-date!\n",
            "[nltk_data]    | Downloading package panlex_swadesh to\n",
            "[nltk_data]    |     /root/nltk_data...\n",
            "[nltk_data]    |   Package panlex_swadesh is already up-to-date!\n",
            "[nltk_data]    | Downloading package mte_teip5 to /root/nltk_data...\n",
            "[nltk_data]    |   Package mte_teip5 is already up-to-date!\n",
            "[nltk_data]    | Downloading package averaged_perceptron_tagger to\n",
            "[nltk_data]    |     /root/nltk_data...\n",
            "[nltk_data]    |   Package averaged_perceptron_tagger is already up-\n",
            "[nltk_data]    |       to-date!\n",
            "[nltk_data]    | Downloading package averaged_perceptron_tagger_ru to\n",
            "[nltk_data]    |     /root/nltk_data...\n",
            "[nltk_data]    |   Package averaged_perceptron_tagger_ru is already\n",
            "[nltk_data]    |       up-to-date!\n",
            "[nltk_data]    | Downloading package perluniprops to\n",
            "[nltk_data]    |     /root/nltk_data...\n",
            "[nltk_data]    |   Package perluniprops is already up-to-date!\n",
            "[nltk_data]    | Downloading package nonbreaking_prefixes to\n",
            "[nltk_data]    |     /root/nltk_data...\n",
            "[nltk_data]    |   Package nonbreaking_prefixes is already up-to-date!\n",
            "[nltk_data]    | Downloading package vader_lexicon to\n",
            "[nltk_data]    |     /root/nltk_data...\n",
            "[nltk_data]    |   Package vader_lexicon is already up-to-date!\n",
            "[nltk_data]    | Downloading package porter_test to /root/nltk_data...\n",
            "[nltk_data]    |   Package porter_test is already up-to-date!\n",
            "[nltk_data]    | Downloading package wmt15_eval to /root/nltk_data...\n",
            "[nltk_data]    |   Package wmt15_eval is already up-to-date!\n",
            "[nltk_data]    | Downloading package mwa_ppdb to /root/nltk_data...\n",
            "[nltk_data]    |   Package mwa_ppdb is already up-to-date!\n",
            "[nltk_data]    | \n",
            "[nltk_data]  Done downloading collection all\n"
          ],
          "name": "stdout"
        }
      ]
    },
    {
      "cell_type": "markdown",
      "metadata": {
        "id": "-v6EGgpg2lbf"
      },
      "source": [
        "## Data Normalization\r\n",
        "The contraction map lists the words which needs to be expanded for proper analysis."
      ]
    },
    {
      "cell_type": "code",
      "metadata": {
        "id": "PnupwB5qmbq6"
      },
      "source": [
        "CONTRACTION_MAP = {\n",
        "\"ain't\": \"is not\",\n",
        "\"aren't\": \"are not\",\n",
        "\"can't\": \"cannot\",\n",
        "\"can't've\": \"cannot have\",\n",
        "\"'cause\": \"because\",\n",
        "\"could've\": \"could have\",\n",
        "\"couldn't\": \"could not\",\n",
        "\"couldn't've\": \"could not have\",\n",
        "\"didn't\": \"did not\",\n",
        "\"doesn't\": \"does not\",\n",
        "\"don't\": \"do not\",\n",
        "\"hadn't\": \"had not\",\n",
        "\"hadn't've\": \"had not have\",\n",
        "\"hasn't\": \"has not\",\n",
        "\"haven't\": \"have not\",\n",
        "\"he'd\": \"he would\",\n",
        "\"he'd've\": \"he would have\",\n",
        "\"he'll\": \"he will\",\n",
        "\"he'll've\": \"he will have\",\n",
        "\"he's\": \"he is\",\n",
        "\"how'd\": \"how did\",\n",
        "\"how'd'y\": \"how do you\",\n",
        "\"how'll\": \"how will\",\n",
        "\"how's\": \"how is\",\n",
        "\"I'd\": \"I would\",\n",
        "\"I'd've\": \"I would have\",\n",
        "\"I'll\": \"I will\",\n",
        "\"I'll've\": \"I will have\",\n",
        "\"I'm\": \"I am\",\n",
        "\"I've\": \"I have\",\n",
        "\"i'd\": \"i would\",\n",
        "\"i'd've\": \"i would have\",\n",
        "\"i'll\": \"i will\",\n",
        "\"i'll've\": \"i will have\",\n",
        "\"i'm\": \"i am\",\n",
        "\"i've\": \"i have\",\n",
        "\"isn't\": \"is not\",\n",
        "\"it'd\": \"it would\",\n",
        "\"it'd've\": \"it would have\",\n",
        "\"it'll\": \"it will\",\n",
        "\"it'll've\": \"it will have\",\n",
        "\"it's\": \"it is\",\n",
        "\"let's\": \"let us\",\n",
        "\"ma'am\": \"madam\",\n",
        "\"mayn't\": \"may not\",\n",
        "\"might've\": \"might have\",\n",
        "\"mightn't\": \"might not\",\n",
        "\"mightn't've\": \"might not have\",\n",
        "\"must've\": \"must have\",\n",
        "\"mustn't\": \"must not\",\n",
        "\"mustn't've\": \"must not have\",\n",
        "\"needn't\": \"need not\",\n",
        "\"needn't've\": \"need not have\",\n",
        "\"o'clock\": \"of the clock\",\n",
        "\"oughtn't\": \"ought not\",\n",
        "\"oughtn't've\": \"ought not have\",\n",
        "\"shan't\": \"shall not\",\n",
        "\"sha'n't\": \"shall not\",\n",
        "\"shan't've\": \"shall not have\",\n",
        "\"she'd\": \"she would\",\n",
        "\"she'd've\": \"she would have\",\n",
        "\"she'll\": \"she will\",\n",
        "\"she'll've\": \"she will have\",\n",
        "\"she's\": \"she is\",\n",
        "\"should've\": \"should have\",\n",
        "\"shouldn't\": \"should not\",\n",
        "\"shouldn't've\": \"should not have\",\n",
        "\"so've\": \"so have\",\n",
        "\"so's\": \"so as\",\n",
        "\"that'd\": \"that would\",\n",
        "\"that'd've\": \"that would have\",\n",
        "\"that's\": \"that is\",\n",
        "\"there'd\": \"there would\",\n",
        "\"there'd've\": \"there would have\",\n",
        "\"there's\": \"there is\",\n",
        "\"they'd\": \"they would\",\n",
        "\"they'd've\": \"they would have\",\n",
        "\"they'll\": \"they will\",\n",
        "\"they'll've\": \"they will have\",\n",
        "\"they're\": \"they are\",\n",
        "\"they've\": \"they have\",\n",
        "\"to've\": \"to have\",\n",
        "\"wasn't\": \"was not\",\n",
        "\"we'd\": \"we would\",\n",
        "\"we'd've\": \"we would have\",\n",
        "\"we'll\": \"we will\",\n",
        "\"we'll've\": \"we will have\",\n",
        "\"we're\": \"we are\",\n",
        "\"we've\": \"we have\",\n",
        "\"weren't\": \"were not\",\n",
        "\"what'll\": \"what will\",\n",
        "\"what'll've\": \"what will have\",\n",
        "\"what're\": \"what are\",\n",
        "\"what's\": \"what is\",\n",
        "\"what've\": \"what have\",\n",
        "\"when's\": \"when is\",\n",
        "\"when've\": \"when have\",\n",
        "\"where'd\": \"where did\",\n",
        "\"where's\": \"where is\",\n",
        "\"where've\": \"where have\",\n",
        "\"who'll\": \"who will\",\n",
        "\"who'll've\": \"who will have\",\n",
        "\"who's\": \"who is\",\n",
        "\"who've\": \"who have\",\n",
        "\"why's\": \"why is\",\n",
        "\"why've\": \"why have\",\n",
        "\"will've\": \"will have\",\n",
        "\"won't\": \"will not\",\n",
        "\"won't've\": \"will not have\",\n",
        "\"would've\": \"would have\",\n",
        "\"wouldn't\": \"would not\",\n",
        "\"wouldn't've\": \"would not have\",\n",
        "\"y'all\": \"you all\",\n",
        "\"y'all'd\": \"you all would\",\n",
        "\"y'all'd've\": \"you all would have\",\n",
        "\"y'all're\": \"you all are\",\n",
        "\"y'all've\": \"you all have\",\n",
        "\"you'd\": \"you would\",\n",
        "\"you'd've\": \"you would have\",\n",
        "\"you'll\": \"you will\",\n",
        "\"you'll've\": \"you will have\",\n",
        "\"you're\": \"you are\",\n",
        "\"you've\": \"you have\"\n",
        "}\n",
        "\n",
        "CONTRACTION_MAP = dict((k.lower(),v.lower()) for k,v in CONTRACTION_MAP.items())\n"
      ],
      "execution_count": 4,
      "outputs": []
    },
    {
      "cell_type": "code",
      "metadata": {
        "id": "9bq0dzgnnyEj"
      },
      "source": [
        "contrac_pat=re.compile(r'{}'.format('|'.join(CONTRACTION_MAP.keys())),flags= re.IGNORECASE | re.DOTALL )\n",
        "\n",
        "def strip_html_tags(txt):\n",
        "  soup=BeautifulSoup(txt,'lxml')\n",
        "  return soup.get_text()\n",
        "\n",
        "def remove_accent_chars(txt):\n",
        "  txt=unicodedata.normalize('NFKD',txt).encode('ascii','ignore').decode('utf-8','ignore')\n",
        "  return txt\n",
        "\n",
        "def expand_contractions(txt, contraction_mapping=CONTRACTION_MAP):\n",
        "    contractions_pattern = re.compile('({})'.format('|'.join(contraction_mapping.keys())), flags=re.IGNORECASE|re.DOTALL)\n",
        "    def expand_match(contraction):\n",
        "        match = contraction.group(0)\n",
        "        first_char = match[0]\n",
        "        expanded_contraction = contraction_mapping.get(match) \\\n",
        "                                   if contraction_mapping.get(match) \\\n",
        "                                    else contraction_mapping.get(match.lower())                       \n",
        "        expanded_contraction = first_char+expanded_contraction[1:]\n",
        "        return expanded_contraction\n",
        "        \n",
        "    expanded_text = contractions_pattern.sub(expand_match, txt)\n",
        "    expanded_text = re.sub(\"'\", \"\", expanded_text)\n",
        "    return expanded_text\n",
        "\n",
        "def remove_special_char(txt):\n",
        "  return re.sub(r'[^a-zA-z0-9\\s]','',txt)\n",
        "\n",
        "def lemmatize_txt(txt):\n",
        "  txt=nlp(txt)\n",
        "  return ' '.join([word.lemma_ if word.lemma_ != '-PRON-' else word.text for word in txt])\n",
        "\n",
        "def remove_stopwords(txt):\n",
        "  tokens =tokenizer.tokenize(txt)\n",
        "  tokens = [token.strip() for token in tokens]\n",
        "  fil_txt= ' '.join([tk for tk in tokens if tk.lower() not in stopword_list])\n",
        "  return fil_txt"
      ],
      "execution_count": 5,
      "outputs": []
    },
    {
      "cell_type": "code",
      "metadata": {
        "id": "oDvjO0w6p0mZ"
      },
      "source": [
        "# Function to normalise the text corpus\n",
        "def normalize_corpus(corpus,pbar=None):\n",
        "  for i,doc in enumerate(corpus):\n",
        "    doc= strip_html_tags(doc)\n",
        "    doc=remove_accent_chars(doc)\n",
        "    doc=doc.lower()\n",
        "    doc=expand_contractions(doc)\n",
        "    doc = re.sub(r'[\\r|\\n|\\r\\n]+', ' ',doc)\n",
        "    doc= re.sub(r'([{.(-)!}])',\" \\\\1 \",doc)\n",
        "    doc= lemmatize_txt(doc)\n",
        "    doc=remove_special_char(doc)\n",
        "    doc =re.sub(' +',' ',doc)\n",
        "    doc=remove_stopwords(doc)\n",
        "    corpus[i]=doc\n",
        "    if pbar is not None:\n",
        "      pbar.update(1)\n",
        "  return corpus\n",
        "\n"
      ],
      "execution_count": 6,
      "outputs": []
    },
    {
      "cell_type": "code",
      "metadata": {
        "id": "VvhWrApUv6P-",
        "colab": {
          "base_uri": "https://localhost:8080/"
        },
        "outputId": "bccc48fb-593a-4a76-ee1b-73947e145482"
      },
      "source": [
        "document = \"\"\"<p>Héllo! Héllo! can you hear me! I just heard about <b>Python</b>!<br/>\\r\\n \n",
        "              It's an amazing language which can be used for Scripting, Web development,\\r\\n\\r\\n\n",
        "              Information Retrieval, Natural Language Processing, Machine Learning & Artificial Intelligence!\\n\n",
        "              What are you waiting for? Go and get started.<br/> He's learning, she's learning, they've already\\n\\n\n",
        "              got a headstart!</p>\n",
        "           \"\"\"\n",
        "normalize_corpus([document])"
      ],
      "execution_count": 7,
      "outputs": [
        {
          "output_type": "execute_result",
          "data": {
            "text/plain": [
              "['hello hello hear hear python amazing language use script web development information retrieval natural language processing machine learning artificial intelligence wait go get start learn learn already get headstart']"
            ]
          },
          "metadata": {
            "tags": []
          },
          "execution_count": 7
        }
      ]
    },
    {
      "cell_type": "code",
      "metadata": {
        "id": "i-Rg9rXKRrnf",
        "colab": {
          "base_uri": "https://localhost:8080/",
          "height": 66,
          "referenced_widgets": [
            "5cbfdfc08a4246b18580bd2ae0890b89",
            "5304abda96ab41f196fca2a44c580b48",
            "6aed64411f624d2fbfea61c04746eddd",
            "f11d0dccef7d4b21b7354934df9fbc3e",
            "dedf490bdf7a4f40be146f51ec6ed9a3",
            "215a10ec7c0d4f9280cb4daac5668d77",
            "3deee6c6533b4de18608478f532ecaa5",
            "372cb1ddf5044a3d88c81eb4ed498cc2"
          ]
        },
        "outputId": "df34dafe-3d54-4a3d-e054-23445ae92a2e"
      },
      "source": [
        "from tqdm.notebook import tqdm\n",
        "from sklearn.model_selection import train_test_split\n",
        "\n",
        "total_data=len(total_df)\n",
        "pbar=tqdm(total=total_data)\n",
        "\n",
        "normalize_corpus(total_df.review,pbar)\n",
        "\n",
        "pbar.close()\n",
        "train_df,test_df=train_test_split(total_df,test_size=0.3)\n",
        "\n",
        "train_df=train_df.reset_index(drop=True)\n",
        "test_df=test_df.reset_index(drop=True)\n",
        "# Don't worry it'll take a while."
      ],
      "execution_count": 8,
      "outputs": [
        {
          "output_type": "display_data",
          "data": {
            "application/vnd.jupyter.widget-view+json": {
              "model_id": "5cbfdfc08a4246b18580bd2ae0890b89",
              "version_minor": 0,
              "version_major": 2
            },
            "text/plain": [
              "HBox(children=(FloatProgress(value=0.0, max=50000.0), HTML(value='')))"
            ]
          },
          "metadata": {
            "tags": []
          }
        },
        {
          "output_type": "stream",
          "text": [
            "\n"
          ],
          "name": "stdout"
        }
      ]
    },
    {
      "cell_type": "code",
      "metadata": {
        "id": "7BgOROpoKwYM"
      },
      "source": [
        "from sklearn.metrics import confusion_matrix \n",
        "from sklearn.metrics import accuracy_score \n",
        "from sklearn.metrics import f1_score\n",
        "from sklearn.metrics import precision_score\n",
        "from sklearn.metrics import recall_score\n",
        "from sklearn.metrics import classification_report \n",
        "import seaborn as sn\n",
        "import matplotlib.pyplot as plt\n",
        "from sklearn.metrics import accuracy_score \n",
        "from sklearn.metrics import classification_report \n",
        "\n",
        "def model_performance(true_labels,predicted_labels,classes):\n",
        "  conf_matrix=confusion_matrix(true_labels,predicted_labels)\n",
        "  df_cm=pd.DataFrame(conf_matrix,index=classes,columns=classes)\n",
        "  print(\"Accuracy: \",accuracy_score(true_labels,predicted_labels))\n",
        "  print(\"Precison: \", precision_score(true_labels,predicted_labels, average='weighted'))\n",
        "  print(\"Recall: \", recall_score(true_labels,predicted_labels, average='weighted'))\n",
        "  print(\"F1 Score: \", f1_score(true_labels,predicted_labels, average='weighted'))\n",
        "  print(\"Model Report: \\n___________________________________________________\",)\n",
        "  print( classification_report(true_labels,predicted_labels))\n",
        "\n",
        "  print(\"CONFUSION MATRIX: \")\n",
        "  sn.heatmap(df_cm,annot=True, cmap=\"YlGnBu\")"
      ],
      "execution_count": 36,
      "outputs": []
    },
    {
      "cell_type": "code",
      "metadata": {
        "id": "ps3girV-0VHN"
      },
      "source": [
        ""
      ],
      "execution_count": 36,
      "outputs": []
    },
    {
      "cell_type": "markdown",
      "metadata": {
        "id": "TdEVkAKJIBzu"
      },
      "source": [
        "#Unsupervised Lexical Method"
      ]
    },
    {
      "cell_type": "markdown",
      "metadata": {
        "id": "yyNH5eTK5X_q"
      },
      "source": [
        "## AFINN Model"
      ]
    },
    {
      "cell_type": "code",
      "metadata": {
        "id": "_Fk1PCiB5XWe",
        "colab": {
          "base_uri": "https://localhost:8080/"
        },
        "outputId": "9b9208c4-b00c-4c2f-adc2-25d42d809380"
      },
      "source": [
        "from afinn import Afinn\n",
        "\n",
        "afn = Afinn(emoticons=True)\n",
        "review_sample=[1278,3044,2198]\n",
        "print(test_df.loc[review_sample])\n",
        "for i,row in test_df.loc[review_sample].iterrows():\n",
        "  print(\"REVIEW: \",row.review)\n",
        "  print(\"Actual Sentiment: \",row.sentiment)\n",
        "  print('Predicted Sentiment polarity: ',afn.score(row.review))     "
      ],
      "execution_count": 37,
      "outputs": [
        {
          "output_type": "stream",
          "text": [
            "                                                 review sentiment\n",
            "1278  one beautifully morbid film ever see merhige c...  positive\n",
            "3044  buster keaton find feature length voice three ...  positive\n",
            "2198  faux russian scientist say two third way movie...  negative\n",
            "REVIEW:  one beautifully morbid film ever see merhige create live painting unfold horrific violence sex minimalist retelling life jesus christ high contrast thick layer grain make question really see time use texture combine extreme contrast create incredible viewing experience film not everyone think keep open mind not quick condemn film content extremely rough make fairly important statement creation god humanity whether film work art shock value trash open discussion\n",
            "Actual Sentiment:  positive\n",
            "Predicted Sentiment polarity:  -3.0\n",
            "REVIEW:  buster keaton find feature length voice three age fine sequence not quite hang together chariot race three age hilarious include 2 short one goat excellent\n",
            "Actual Sentiment:  positive\n",
            "Predicted Sentiment polarity:  7.0\n",
            "REVIEW:  faux russian scientist say two third way movie come science pretty much sum reason watch movie anything involve half man half hammerhead shark definitely deserve serious empirical investigation part impartial aspire scientist say biz girlfriend brother remote rest history say special effect bad would disservice field special effect 2005 not hard film car scene without cheesy bluescreen background yeah charming state art hitchcock film bird 2005 look low budget spare cheap attempt sci fi service actually make attempt willing suspension disbelief however seriously defame overall concept film let tell sad may sound probably worth time nothing else tour de force bad sci fi worth education new movie buff certainly worthy refresher course see movie day crazy hunchback mad scientist hammerhead transceiver think good idea spoon canful blood nearby water make question not intelligence mankind also ability b movie writer come remotely plausible plot line film also pretty much fulfill one longtime bad movie contention bad guy always wear sunglass not 2005 would deadset fact film sort insanely poor metaphor cold war mean may well khan bridge klingon bird prey insert leach chekhovs ear one moving line movie chick without bra insist charlton heston lookalike wait tom try lift escape helicopter ground thing tom waste bad sunglass guy never end banana clip attach kalashnikov ak47 layman term mad scientist say near end film goal evolve human specie suffice say movie contribute devolution humankind faint freudian reference utter mad scientist preppe female protagonist mate hammerhead shark simple reminder even bad science fiction find something laugh\n",
            "Actual Sentiment:  negative\n",
            "Predicted Sentiment polarity:  -18.0\n"
          ],
          "name": "stdout"
        }
      ]
    },
    {
      "cell_type": "code",
      "metadata": {
        "id": "-9XMPiYZ514X",
        "colab": {
          "base_uri": "https://localhost:8080/",
          "height": 66,
          "referenced_widgets": [
            "d959b89fbfb542f88d467d70215b62a8",
            "98d30f5d132e44728d7f658fa3a0de0a",
            "ca9b98e3f3dd48cf80b1202330bd21a4",
            "3169c2d451504cbb930006ea1180dfa2",
            "d23af68e891d4da0929a27c41f33e4e6",
            "28eb414457644a198e35f0a3ce3ea4b2",
            "39d989327bf04de7b9e74b2f6e103c4b",
            "60f1c85ac6e440afa75cf1ab2b8b84c6"
          ]
        },
        "outputId": "c1f97897-030c-452c-ea17-f6587f507983"
      },
      "source": [
        "# It'll take a long time, relax.\n",
        "sentiment_polarity = [afn.score(review) for review in tqdm(total_df.review)]\n",
        "predicted_sentiments= ['positive' if score>=1.5 else 'negative' for score in sentiment_polarity]"
      ],
      "execution_count": 38,
      "outputs": [
        {
          "output_type": "display_data",
          "data": {
            "application/vnd.jupyter.widget-view+json": {
              "model_id": "d959b89fbfb542f88d467d70215b62a8",
              "version_minor": 0,
              "version_major": 2
            },
            "text/plain": [
              "HBox(children=(FloatProgress(value=0.0, max=50000.0), HTML(value='')))"
            ]
          },
          "metadata": {
            "tags": []
          }
        },
        {
          "output_type": "stream",
          "text": [
            "\n"
          ],
          "name": "stdout"
        }
      ]
    },
    {
      "cell_type": "markdown",
      "metadata": {
        "id": "AMFUNeN1DwBG"
      },
      "source": [
        "###Evaluating the performance\n"
      ]
    },
    {
      "cell_type": "code",
      "metadata": {
        "id": "1qanBsg4EyHE",
        "colab": {
          "base_uri": "https://localhost:8080/",
          "height": 537
        },
        "outputId": "168cb23e-6540-442e-b798-5c6cdce0f83e"
      },
      "source": [
        "model_performance(total_df.sentiment,predicted_sentiments,classes=[\"positive\",\"negative\"])"
      ],
      "execution_count": 39,
      "outputs": [
        {
          "output_type": "stream",
          "text": [
            "Accuracy:  0.72308\n",
            "Precison:  0.7325462842911575\n",
            "Recall:  0.72308\n",
            "F1 Score:  0.7202328730646428\n",
            "Model Report: \n",
            "___________________________________________________\n",
            "              precision    recall  f1-score   support\n",
            "\n",
            "    negative       0.78      0.62      0.69     25000\n",
            "    positive       0.69      0.82      0.75     25000\n",
            "\n",
            "    accuracy                           0.72     50000\n",
            "   macro avg       0.73      0.72      0.72     50000\n",
            "weighted avg       0.73      0.72      0.72     50000\n",
            "\n",
            "CONFUSION MATRIX: \n"
          ],
          "name": "stdout"
        },
        {
          "output_type": "display_data",
          "data": {
            "image/png": "[encoded data removed]",
            "text/plain": [
              "<Figure size 432x288 with 2 Axes>"
            ]
          },
          "metadata": {
            "tags": [],
            "needs_background": "light"
          }
        }
      ]
    },
    {
      "cell_type": "markdown",
      "metadata": {
        "id": "-ro72KQ_LErY"
      },
      "source": [
        "## SentiWordNet"
      ]
    },
    {
      "cell_type": "code",
      "metadata": {
        "id": "OMBB_oBP792K",
        "colab": {
          "base_uri": "https://localhost:8080/"
        },
        "outputId": "4a30d407-f5c3-4b3a-9e8b-08a31a01f397"
      },
      "source": [
        "from nltk.corpus import sentiwordnet as swn\n",
        "word = list(swn.senti_synsets('disgusting','a'))[0]\n",
        "print(\"Positive score : \",word.pos_score())\n",
        "print(\"Negative score : \",word.neg_score())\n",
        "print(\"Objective score : \",word.obj_score())"
      ],
      "execution_count": 40,
      "outputs": [
        {
          "output_type": "stream",
          "text": [
            "Positive score :  0.25\n",
            "Negative score :  0.75\n",
            "Objective score :  0.0\n"
          ],
          "name": "stdout"
        }
      ]
    },
    {
      "cell_type": "code",
      "metadata": {
        "id": "bmQcp6HIO751"
      },
      "source": [
        "def analyze_sentiwordnet_func(review,verbose=False):\n",
        "  tagged_text=[(token.text,token.tag_) for token in nlp(review)]\n",
        "  pos_score=neg_score=token_count=obj_score=0\n",
        "\n",
        "  for word, tag in tagged_text:\n",
        "      ss_set = None\n",
        "      if 'NN' in tag and list(swn.senti_synsets(word, 'n')):\n",
        "          ss_set = list(swn.senti_synsets(word, 'n'))[0]\n",
        "      elif 'VB' in tag and list(swn.senti_synsets(word, 'v')):\n",
        "          ss_set = list(swn.senti_synsets(word, 'v'))[0]\n",
        "      elif 'JJ' in tag and list(swn.senti_synsets(word, 'a')):\n",
        "          ss_set = list(swn.senti_synsets(word, 'a'))[0]\n",
        "      elif 'RB' in tag and list(swn.senti_synsets(word, 'r')):\n",
        "          ss_set = list(swn.senti_synsets(word, 'r'))[0]       \n",
        "      if ss_set:\n",
        "          pos_score += ss_set.pos_score()\n",
        "          neg_score += ss_set.neg_score()\n",
        "          obj_score += ss_set.obj_score()\n",
        "          token_count += 1\n",
        "      \n",
        "  final_score=pos_score-neg_score\n",
        "  norm_final_score = round(float(final_score)/token_count,3)\n",
        "  final_sentiment ='positive' if norm_final_score>=0 else 'negative'\n",
        "  if verbose:\n",
        "    print(\"Sentiment: \",final_sentiment)\n",
        "    print(\"Objectivity: \",round(float(obj_score)/token_count,3))\n",
        "    print(\"Positivity: \",round(float(pos_score)/token_count,3))\n",
        "    print(\"Negativity: \",round(float(neg_score)/token_count,3))\n",
        "  return final_sentiment\n",
        "\n",
        "\n",
        "    "
      ],
      "execution_count": 41,
      "outputs": []
    },
    {
      "cell_type": "code",
      "metadata": {
        "id": "VbkOODIQmQLH",
        "colab": {
          "base_uri": "https://localhost:8080/"
        },
        "outputId": "ff7ff8b6-d0b5-4b67-fd4b-74f0946b58b5"
      },
      "source": [
        "for i,row in test_df.loc[review_sample].iterrows():\n",
        "  print(\"REVIEW: \",row.review)\n",
        "  print(\"Actual Sentiment: \",row.sentiment)\n",
        "  print(analyze_sentiwordnet_func(row.review,True)) \n",
        "  print(\"-------------------------------------------------------------------------------------------------\")"
      ],
      "execution_count": 42,
      "outputs": [
        {
          "output_type": "stream",
          "text": [
            "REVIEW:  one beautifully morbid film ever see merhige create live painting unfold horrific violence sex minimalist retelling life jesus christ high contrast thick layer grain make question really see time use texture combine extreme contrast create incredible viewing experience film not everyone think keep open mind not quick condemn film content extremely rough make fairly important statement creation god humanity whether film work art shock value trash open discussion\n",
            "Actual Sentiment:  positive\n",
            "Sentiment:  negative\n",
            "Objectivity:  0.844\n",
            "Positivity:  0.061\n",
            "Negativity:  0.094\n",
            "negative\n",
            "-------------------------------------------------------------------------------------------------\n",
            "REVIEW:  buster keaton find feature length voice three age fine sequence not quite hang together chariot race three age hilarious include 2 short one goat excellent\n",
            "Actual Sentiment:  positive\n",
            "Sentiment:  negative\n",
            "Objectivity:  0.869\n",
            "Positivity:  0.044\n",
            "Negativity:  0.087\n",
            "negative\n",
            "-------------------------------------------------------------------------------------------------\n",
            "REVIEW:  faux russian scientist say two third way movie come science pretty much sum reason watch movie anything involve half man half hammerhead shark definitely deserve serious empirical investigation part impartial aspire scientist say biz girlfriend brother remote rest history say special effect bad would disservice field special effect 2005 not hard film car scene without cheesy bluescreen background yeah charming state art hitchcock film bird 2005 look low budget spare cheap attempt sci fi service actually make attempt willing suspension disbelief however seriously defame overall concept film let tell sad may sound probably worth time nothing else tour de force bad sci fi worth education new movie buff certainly worthy refresher course see movie day crazy hunchback mad scientist hammerhead transceiver think good idea spoon canful blood nearby water make question not intelligence mankind also ability b movie writer come remotely plausible plot line film also pretty much fulfill one longtime bad movie contention bad guy always wear sunglass not 2005 would deadset fact film sort insanely poor metaphor cold war mean may well khan bridge klingon bird prey insert leach chekhovs ear one moving line movie chick without bra insist charlton heston lookalike wait tom try lift escape helicopter ground thing tom waste bad sunglass guy never end banana clip attach kalashnikov ak47 layman term mad scientist say near end film goal evolve human specie suffice say movie contribute devolution humankind faint freudian reference utter mad scientist preppe female protagonist mate hammerhead shark simple reminder even bad science fiction find something laugh\n",
            "Actual Sentiment:  negative\n",
            "Sentiment:  negative\n",
            "Objectivity:  0.857\n",
            "Positivity:  0.06\n",
            "Negativity:  0.083\n",
            "negative\n",
            "-------------------------------------------------------------------------------------------------\n"
          ],
          "name": "stdout"
        }
      ]
    },
    {
      "cell_type": "code",
      "metadata": {
        "id": "lorzA067mgs0",
        "colab": {
          "base_uri": "https://localhost:8080/",
          "height": 66,
          "referenced_widgets": [
            "53bec297d4804086a47a5dd69455db4e",
            "3add3ecae2b540c2b91b880110e127b2",
            "dabf6b2d6a3d4baaa084e512834fdc67",
            "3e56fbf6368f4b87b923cde4370eb84c",
            "6df3fe5e16d5410ab73ee9b2f5abddd6",
            "fd20f827385c491ea2d403d67b9cdabe",
            "14d75d1efb184c6b8e675b14e8b0b38a",
            "9c267834f954415eb6afea4abe478b2c"
          ]
        },
        "outputId": "f039d383-7870-4111-9a72-11e060d8adf5"
      },
      "source": [
        "predicted_sentiments=[analyze_sentiwordnet_func(review) for review in tqdm(total_df.review)]"
      ],
      "execution_count": 43,
      "outputs": [
        {
          "output_type": "display_data",
          "data": {
            "application/vnd.jupyter.widget-view+json": {
              "model_id": "53bec297d4804086a47a5dd69455db4e",
              "version_minor": 0,
              "version_major": 2
            },
            "text/plain": [
              "HBox(children=(FloatProgress(value=0.0, max=50000.0), HTML(value='')))"
            ]
          },
          "metadata": {
            "tags": []
          }
        },
        {
          "output_type": "stream",
          "text": [
            "\n"
          ],
          "name": "stdout"
        }
      ]
    },
    {
      "cell_type": "markdown",
      "metadata": {
        "id": "r-RyJwZ1rMQc"
      },
      "source": [
        "###Evaluating the performance\n"
      ]
    },
    {
      "cell_type": "code",
      "metadata": {
        "id": "yu3imC0WqzwC",
        "colab": {
          "base_uri": "https://localhost:8080/",
          "height": 537
        },
        "outputId": "74c278eb-8ed1-4d6b-933e-ff22d850fc05"
      },
      "source": [
        "model_performance(total_df.sentiment,predicted_sentiments,classes=[\"positive\",\"negative\"])"
      ],
      "execution_count": 44,
      "outputs": [
        {
          "output_type": "stream",
          "text": [
            "Accuracy:  0.68318\n",
            "Precison:  0.6833589468905669\n",
            "Recall:  0.68318\n",
            "F1 Score:  0.6831026819980056\n",
            "Model Report: \n",
            "___________________________________________________\n",
            "              precision    recall  f1-score   support\n",
            "\n",
            "    negative       0.69      0.67      0.68     25000\n",
            "    positive       0.68      0.70      0.69     25000\n",
            "\n",
            "    accuracy                           0.68     50000\n",
            "   macro avg       0.68      0.68      0.68     50000\n",
            "weighted avg       0.68      0.68      0.68     50000\n",
            "\n",
            "CONFUSION MATRIX: \n"
          ],
          "name": "stdout"
        },
        {
          "output_type": "display_data",
          "data": {
            "image/png": "[encoded data removed]",
            "text/plain": [
              "<Figure size 432x288 with 2 Axes>"
            ]
          },
          "metadata": {
            "tags": [],
            "needs_background": "light"
          }
        }
      ]
    },
    {
      "cell_type": "markdown",
      "metadata": {
        "id": "1QFPQLSurUGe"
      },
      "source": [
        "##With VADER model"
      ]
    },
    {
      "cell_type": "code",
      "metadata": {
        "id": "AwljPFd_rIkB",
        "colab": {
          "base_uri": "https://localhost:8080/"
        },
        "outputId": "9bd920a6-ac05-44dd-8777-0abfb7dc6b6d"
      },
      "source": [
        "from nltk.sentiment.vader import SentimentIntensityAnalyzer\n",
        "\n",
        "def func_intensity_analyser(review,threshold=0.1,verbose=False):\n",
        "  analyzer=SentimentIntensityAnalyzer()\n",
        "  scores=analyzer.polarity_scores(review)\n",
        "\n",
        "  agg_score=scores['compound']\n",
        "  final_sentiment='positive' if agg_score>=threshold else 'negative'\n",
        "  if verbose:\n",
        "    positive = round(scores['pos'],2)*100\n",
        "    final= round(agg_score,2)*100\n",
        "    negative=round(scores['neg'],2)*100\n",
        "    neutral =round(scores['neu'],2)*100\n",
        "\n",
        "    print(f'POSITIVE : {positive}%')\n",
        "    print(f'NEGATIVE : {negative}%')\n",
        "    print(f'NEUTRAL : {neutral}%')\n",
        "    print(f'FINAL : {final}')\n",
        "    print(f'SENTIMENT : {final_sentiment}')\n",
        "  \n",
        "  return final_sentiment\n",
        "  \n",
        "  "
      ],
      "execution_count": 45,
      "outputs": [
        {
          "output_type": "stream",
          "text": [
            "/usr/local/lib/python3.6/dist-packages/nltk/twitter/__init__.py:20: UserWarning: The twython library has not been installed. Some functionality from the twitter package will not be available.\n",
            "  warnings.warn(\"The twython library has not been installed. \"\n"
          ],
          "name": "stderr"
        }
      ]
    },
    {
      "cell_type": "code",
      "metadata": {
        "id": "AqKHNanL_u0k",
        "colab": {
          "base_uri": "https://localhost:8080/"
        },
        "outputId": "027bab98-6157-497a-d39a-1f4ba16f33b9"
      },
      "source": [
        "for i,row in test_df.loc[review_sample].iterrows():\n",
        "  print(\"REVIEW: \",row.review)\n",
        "  print(\"Actual Sentiment: \",row.sentiment)\n",
        "  func_intensity_analyser(row.review,verbose=True) "
      ],
      "execution_count": 46,
      "outputs": [
        {
          "output_type": "stream",
          "text": [
            "REVIEW:  one beautifully morbid film ever see merhige create live painting unfold horrific violence sex minimalist retelling life jesus christ high contrast thick layer grain make question really see time use texture combine extreme contrast create incredible viewing experience film not everyone think keep open mind not quick condemn film content extremely rough make fairly important statement creation god humanity whether film work art shock value trash open discussion\n",
            "Actual Sentiment:  positive\n",
            "POSITIVE : 21.0%\n",
            "NEGATIVE : 13.0%\n",
            "NEUTRAL : 66.0%\n",
            "FINAL : 52.0\n",
            "SENTIMENT : positive\n",
            "REVIEW:  buster keaton find feature length voice three age fine sequence not quite hang together chariot race three age hilarious include 2 short one goat excellent\n",
            "Actual Sentiment:  positive\n",
            "POSITIVE : 28.000000000000004%\n",
            "NEGATIVE : 0.0%\n",
            "NEUTRAL : 72.0%\n",
            "FINAL : 80.0\n",
            "SENTIMENT : positive\n",
            "REVIEW:  faux russian scientist say two third way movie come science pretty much sum reason watch movie anything involve half man half hammerhead shark definitely deserve serious empirical investigation part impartial aspire scientist say biz girlfriend brother remote rest history say special effect bad would disservice field special effect 2005 not hard film car scene without cheesy bluescreen background yeah charming state art hitchcock film bird 2005 look low budget spare cheap attempt sci fi service actually make attempt willing suspension disbelief however seriously defame overall concept film let tell sad may sound probably worth time nothing else tour de force bad sci fi worth education new movie buff certainly worthy refresher course see movie day crazy hunchback mad scientist hammerhead transceiver think good idea spoon canful blood nearby water make question not intelligence mankind also ability b movie writer come remotely plausible plot line film also pretty much fulfill one longtime bad movie contention bad guy always wear sunglass not 2005 would deadset fact film sort insanely poor metaphor cold war mean may well khan bridge klingon bird prey insert leach chekhovs ear one moving line movie chick without bra insist charlton heston lookalike wait tom try lift escape helicopter ground thing tom waste bad sunglass guy never end banana clip attach kalashnikov ak47 layman term mad scientist say near end film goal evolve human specie suffice say movie contribute devolution humankind faint freudian reference utter mad scientist preppe female protagonist mate hammerhead shark simple reminder even bad science fiction find something laugh\n",
            "Actual Sentiment:  negative\n",
            "POSITIVE : 15.0%\n",
            "NEGATIVE : 17.0%\n",
            "NEUTRAL : 68.0%\n",
            "FINAL : -88.0\n",
            "SENTIMENT : negative\n"
          ],
          "name": "stdout"
        }
      ]
    },
    {
      "cell_type": "code",
      "metadata": {
        "id": "2Jw15HMUAFW4",
        "colab": {
          "base_uri": "https://localhost:8080/",
          "height": 66,
          "referenced_widgets": [
            "a64e3fa579d84f92b0f68693bf28bbca",
            "ddff753d05c3444ea820336c437db503",
            "2a8931f742b545a9941a22e73eae46c0",
            "eb1255692ca04fe9a3619548e1703c4c",
            "fe8e7e9bd8bf4892952d2bccb16885be",
            "908ea84abb2c4e5da26ae818e6e5f9a8",
            "cdd18c83c9134674a1f20ed3296d5227",
            "c86d52ee09a04257aee77568c773de04"
          ]
        },
        "outputId": "df5b344f-f497-4538-d8c9-611ec45e8b1a"
      },
      "source": [
        "predicted_sentiments = [func_intensity_analyser(r,threshold=0.4) for r in tqdm(total_df.review)]"
      ],
      "execution_count": 47,
      "outputs": [
        {
          "output_type": "display_data",
          "data": {
            "application/vnd.jupyter.widget-view+json": {
              "model_id": "a64e3fa579d84f92b0f68693bf28bbca",
              "version_minor": 0,
              "version_major": 2
            },
            "text/plain": [
              "HBox(children=(FloatProgress(value=0.0, max=50000.0), HTML(value='')))"
            ]
          },
          "metadata": {
            "tags": []
          }
        },
        {
          "output_type": "stream",
          "text": [
            "\n"
          ],
          "name": "stdout"
        }
      ]
    },
    {
      "cell_type": "markdown",
      "metadata": {
        "id": "8YeILYwKCHgM"
      },
      "source": [
        "### Evaluating the model performance"
      ]
    },
    {
      "cell_type": "code",
      "metadata": {
        "id": "uociw516Ab04",
        "colab": {
          "base_uri": "https://localhost:8080/",
          "height": 540
        },
        "outputId": "a6b5f863-b568-4035-e4cf-8133bae16e9b"
      },
      "source": [
        "model_performance(total_df.sentiment,predicted_sentiments,classes=[\"positive\",'negative'])"
      ],
      "execution_count": 48,
      "outputs": [
        {
          "output_type": "stream",
          "text": [
            "Accuracy:  0.70272\n",
            "Precison:  0.711110460617632\n",
            "Recall:  0.70272\n",
            "F1 Score:  0.6997365516300188\n",
            "Model Report: \n",
            "___________________________________________________\n",
            "              precision    recall  f1-score   support\n",
            "\n",
            "    negative       0.75      0.60      0.67     25000\n",
            "    positive       0.67      0.80      0.73     25000\n",
            "\n",
            "    accuracy                           0.70     50000\n",
            "   macro avg       0.71      0.70      0.70     50000\n",
            "weighted avg       0.71      0.70      0.70     50000\n",
            "\n",
            "CONFUSION MATRIX: \n"
          ],
          "name": "stdout"
        },
        {
          "output_type": "display_data",
          "data": {
            "image/png": "[encoded data removed]",
            "text/plain": [
              "<Figure size 432x288 with 2 Axes>"
            ]
          },
          "metadata": {
            "tags": [],
            "needs_background": "light"
          }
        }
      ]
    },
    {
      "cell_type": "markdown",
      "metadata": {
        "id": "8Nyln7uvA0Ms"
      },
      "source": [
        "# Supervised ML Model"
      ]
    },
    {
      "cell_type": "code",
      "metadata": {
        "id": "ZCpKTxbbAqxP"
      },
      "source": [
        "from sklearn.feature_extraction.text import CountVectorizer , TfidfVectorizer\n",
        "\n",
        "cv= CountVectorizer(binary=False,min_df=0.0,max_df=1.0 , ngram_range=(1,2))\n",
        "cv_train_features = cv.fit_transform(train_df.review)\n",
        "\n",
        "tv= TfidfVectorizer(use_idf=True,min_df=0.0,max_df=1.0,ngram_range=(1,2),sublinear_tf=True)\n",
        "tv_train_features =tv.fit_transform(train_df.review)"
      ],
      "execution_count": 49,
      "outputs": []
    },
    {
      "cell_type": "code",
      "metadata": {
        "id": "GnouiCenEv8y"
      },
      "source": [
        "# Transforming Test reviews into features\n",
        "cv_test_features= cv.transform(test_df.review)#bow\n",
        "tv_test_features=tv.transform(test_df.review)#tfidf"
      ],
      "execution_count": 50,
      "outputs": []
    },
    {
      "cell_type": "code",
      "metadata": {
        "id": "0XscVkDfH4L0",
        "colab": {
          "base_uri": "https://localhost:8080/"
        },
        "outputId": "868d5afb-3591-4459-967e-c60e9e57bb0d"
      },
      "source": [
        "print('BOW model:> Train features shape:', cv_train_features.shape, ' Test features shape:', cv_test_features.shape)\n",
        "print('TFIDF model:> Train features shape:', tv_train_features.shape, ' Test features shape:', tv_test_features.shape)"
      ],
      "execution_count": 51,
      "outputs": [
        {
          "output_type": "stream",
          "text": [
            "BOW model:> Train features shape: (35000, 2112499)  Test features shape: (15000, 2112499)\n",
            "TFIDF model:> Train features shape: (35000, 2112499)  Test features shape: (15000, 2112499)\n"
          ],
          "name": "stdout"
        }
      ]
    },
    {
      "cell_type": "markdown",
      "metadata": {
        "id": "g7_FearGiuD3"
      },
      "source": [
        "## Model Training, Prediction and Performance Evaluation"
      ]
    },
    {
      "cell_type": "markdown",
      "metadata": {
        "id": "Ot4f-KIuGdXM"
      },
      "source": [
        "## Support Vector Machine Classifier"
      ]
    },
    {
      "cell_type": "markdown",
      "metadata": {
        "id": "BrNaGC1_pu7c"
      },
      "source": [
        "### SVM Model on BOW features"
      ]
    },
    {
      "cell_type": "code",
      "metadata": {
        "id": "VV30PQ67FJax"
      },
      "source": [
        "from sklearn.linear_model import SGDClassifier\n",
        "svm=SGDClassifier(loss='hinge',penalty='l2',max_iter=10000)\n",
        "svm.fit(cv_train_features,train_df.sentiment)\n",
        "\n",
        "predicted_sentiments=svm.predict(cv_test_features)\n"
      ],
      "execution_count": 28,
      "outputs": []
    },
    {
      "cell_type": "code",
      "metadata": {
        "id": "fBpv82eR2_C3",
        "colab": {
          "base_uri": "https://localhost:8080/",
          "height": 537
        },
        "outputId": "15b6afe0-27bf-4fd2-b17e-4ccf0c9b63a1"
      },
      "source": [
        "model_performance(test_df.sentiment,predicted_sentiments,classes=['positive','negative'])"
      ],
      "execution_count": 29,
      "outputs": [
        {
          "output_type": "stream",
          "text": [
            "Accuracy:  0.8971333333333333\n",
            "Precison:  0.8972919804277444\n",
            "Recall:  0.8971333333333333\n",
            "F1 Score:  0.8971143062051256\n",
            "Model Report: \n",
            "___________________________________________________\n",
            "              precision    recall  f1-score   support\n",
            "\n",
            "    negative       0.90      0.89      0.90      7446\n",
            "    positive       0.89      0.91      0.90      7554\n",
            "\n",
            "    accuracy                           0.90     15000\n",
            "   macro avg       0.90      0.90      0.90     15000\n",
            "weighted avg       0.90      0.90      0.90     15000\n",
            "\n",
            "CONFUSION MATRIX: \n"
          ],
          "name": "stdout"
        },
        {
          "output_type": "display_data",
          "data": {
            "image/png": "[encoded data removed]",
            "text/plain": [
              "<Figure size 432x288 with 2 Axes>"
            ]
          },
          "metadata": {
            "tags": [],
            "needs_background": "light"
          }
        }
      ]
    },
    {
      "cell_type": "markdown",
      "metadata": {
        "id": "X8jEBEpMpy5L"
      },
      "source": [
        "### SVM Model on TF-IDF features"
      ]
    },
    {
      "cell_type": "code",
      "metadata": {
        "id": "wo4gf2ut3LGu"
      },
      "source": [
        "svm=SGDClassifier(loss='hinge',penalty='l2',max_iter=10000)\n",
        "svm.fit(tv_train_features,train_df.sentiment)\n",
        "predicted_sentiments=svm.predict(tv_test_features)"
      ],
      "execution_count": 30,
      "outputs": []
    },
    {
      "cell_type": "code",
      "metadata": {
        "id": "yomBOYeb48tL",
        "colab": {
          "base_uri": "https://localhost:8080/",
          "height": 537
        },
        "outputId": "9633897b-a029-416e-8efb-923cdd2e12a4"
      },
      "source": [
        "model_performance(test_df.sentiment,predicted_sentiments,classes=['positive','negative'])"
      ],
      "execution_count": 31,
      "outputs": [
        {
          "output_type": "stream",
          "text": [
            "Accuracy:  0.8968\n",
            "Precison:  0.8971140602352434\n",
            "Recall:  0.8968\n",
            "F1 Score:  0.8967673880734884\n",
            "Model Report: \n",
            "___________________________________________________\n",
            "              precision    recall  f1-score   support\n",
            "\n",
            "    negative       0.91      0.88      0.89      7446\n",
            "    positive       0.89      0.91      0.90      7554\n",
            "\n",
            "    accuracy                           0.90     15000\n",
            "   macro avg       0.90      0.90      0.90     15000\n",
            "weighted avg       0.90      0.90      0.90     15000\n",
            "\n",
            "CONFUSION MATRIX: \n"
          ],
          "name": "stdout"
        },
        {
          "output_type": "display_data",
          "data": {
            "image/png": "[encoded data removed]",
            "text/plain": [
              "<Figure size 432x288 with 2 Axes>"
            ]
          },
          "metadata": {
            "tags": [],
            "needs_background": "light"
          }
        }
      ]
    },
    {
      "cell_type": "markdown",
      "metadata": {
        "id": "orttDxBn5K22"
      },
      "source": [
        "## Logistic Regression"
      ]
    },
    {
      "cell_type": "markdown",
      "metadata": {
        "id": "BVT_T-MQmTW-"
      },
      "source": [
        "### Logistic Regression model on BOW features"
      ]
    },
    {
      "cell_type": "code",
      "metadata": {
        "id": "wCFqDzC54_Cx"
      },
      "source": [
        "from sklearn.linear_model import LogisticRegression\n",
        "\n",
        "lr=LogisticRegression(penalty='l2',max_iter=1000)\n",
        "lr.fit(cv_train_features,train_df.sentiment)\n",
        "\n",
        "predicted_sentiments=lr.predict(cv_test_features)\n"
      ],
      "execution_count": 32,
      "outputs": []
    },
    {
      "cell_type": "code",
      "metadata": {
        "id": "VdFbF2tf5bQ1",
        "colab": {
          "base_uri": "https://localhost:8080/",
          "height": 537
        },
        "outputId": "89934876-9b07-460f-a4e6-275d27037853"
      },
      "source": [
        "model_performance(test_df.sentiment,predicted_sentiments,classes=['positive','negative'])"
      ],
      "execution_count": 33,
      "outputs": [
        {
          "output_type": "stream",
          "text": [
            "Accuracy:  0.8994\n",
            "Precison:  0.899465409950042\n",
            "Recall:  0.8994\n",
            "F1 Score:  0.8993902810111152\n",
            "Model Report: \n",
            "___________________________________________________\n",
            "              precision    recall  f1-score   support\n",
            "\n",
            "    negative       0.90      0.89      0.90      7446\n",
            "    positive       0.89      0.91      0.90      7554\n",
            "\n",
            "    accuracy                           0.90     15000\n",
            "   macro avg       0.90      0.90      0.90     15000\n",
            "weighted avg       0.90      0.90      0.90     15000\n",
            "\n",
            "CONFUSION MATRIX: \n"
          ],
          "name": "stdout"
        },
        {
          "output_type": "display_data",
          "data": {
            "image/png": "[encoded data removed]",
            "text/plain": [
              "<Figure size 432x288 with 2 Axes>"
            ]
          },
          "metadata": {
            "tags": [],
            "needs_background": "light"
          }
        }
      ]
    },
    {
      "cell_type": "markdown",
      "metadata": {
        "id": "YsK9X94jmM-I"
      },
      "source": [
        "### Logistic Regression model on TF-IDF features"
      ]
    },
    {
      "cell_type": "code",
      "metadata": {
        "id": "jzGRwA8c5dlk"
      },
      "source": [
        "lr=LogisticRegression(penalty='l2',max_iter=1000)\n",
        "lr.fit(tv_train_features,train_df.sentiment)\n",
        "\n",
        "predicted_sentiments=lr.predict(tv_test_features)"
      ],
      "execution_count": 34,
      "outputs": []
    },
    {
      "cell_type": "code",
      "metadata": {
        "id": "raTxH-825hse",
        "colab": {
          "base_uri": "https://localhost:8080/",
          "height": 537
        },
        "outputId": "dcc59a9a-6978-4f16-f47c-89e746355e69"
      },
      "source": [
        "model_performance(test_df.sentiment,predicted_sentiments,classes=['positive','negative'])"
      ],
      "execution_count": 35,
      "outputs": [
        {
          "output_type": "stream",
          "text": [
            "Accuracy:  0.8926666666666667\n",
            "Precison:  0.892824779891688\n",
            "Recall:  0.8926666666666667\n",
            "F1 Score:  0.892646611447287\n",
            "Model Report: \n",
            "___________________________________________________\n",
            "              precision    recall  f1-score   support\n",
            "\n",
            "    negative       0.90      0.88      0.89      7446\n",
            "    positive       0.89      0.90      0.89      7554\n",
            "\n",
            "    accuracy                           0.89     15000\n",
            "   macro avg       0.89      0.89      0.89     15000\n",
            "weighted avg       0.89      0.89      0.89     15000\n",
            "\n",
            "CONFUSION MATRIX: \n"
          ],
          "name": "stdout"
        },
        {
          "output_type": "display_data",
          "data": {
            "image/png": "[encoded data removed]",
            "text/plain": [
              "<Figure size 432x288 with 2 Axes>"
            ]
          },
          "metadata": {
            "tags": [],
            "needs_background": "light"
          }
        }
      ]
    },
    {
      "cell_type": "code",
      "metadata": {
        "id": "Pwz78YVNRBzx"
      },
      "source": [
        ""
      ],
      "execution_count": 35,
      "outputs": []
    }
  ]
}